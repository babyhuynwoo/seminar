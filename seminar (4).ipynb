{
 "cells": [
  {
   "cell_type": "code",
   "execution_count": 2,
   "id": "2c6895cf-e477-4dca-9dbe-81d2c513d1c8",
   "metadata": {},
   "outputs": [],
   "source": [
    "import numpy as np \n",
    "import pandas as pd\n",
    "from pandas import Series, DataFrame"
   ]
  },
  {
   "cell_type": "code",
   "execution_count": 3,
   "id": "44a0c85a-3b03-4fef-83fb-b534e5d2f25d",
   "metadata": {},
   "outputs": [
    {
     "data": {
      "text/plain": [
       "a    1\n",
       "b    2\n",
       "c    3\n",
       "d    4\n",
       "e    5\n",
       "f    6\n",
       "g    7\n",
       "dtype: int32"
      ]
     },
     "execution_count": 3,
     "metadata": {},
     "output_type": "execute_result"
    }
   ],
   "source": [
    "# 1. Series\n",
    "\n",
    "# make series obj\n",
    "ser1 = pd.Series(np.arange(1,8),\n",
    "                index = list('abcdefg'))\n",
    "ser1\n",
    "# series is like 1d ndarry , but series have index like dictionary"
   ]
  },
  {
   "cell_type": "code",
   "execution_count": 4,
   "id": "745d70c4-beae-40af-af1b-ec84bba4d857",
   "metadata": {},
   "outputs": [],
   "source": [
    "# series attributes "
   ]
  },
  {
   "cell_type": "code",
   "execution_count": 5,
   "id": "1bddfe89-42ad-46ff-82c6-3ffbb1cc2e83",
   "metadata": {},
   "outputs": [
    {
     "data": {
      "text/plain": [
       "Index(['a', 'b', 'c', 'd', 'e', 'f', 'g'], dtype='object')"
      ]
     },
     "execution_count": 5,
     "metadata": {},
     "output_type": "execute_result"
    }
   ],
   "source": [
    "ser1.index"
   ]
  },
  {
   "cell_type": "code",
   "execution_count": 6,
   "id": "81fe6a63-2f07-4f32-bcaa-5c6ac9f4ecda",
   "metadata": {},
   "outputs": [
    {
     "data": {
      "text/plain": [
       "<NumpyExtensionArray>\n",
       "[1, 2, 3, 4, 5, 6, 7]\n",
       "Length: 7, dtype: int32"
      ]
     },
     "execution_count": 6,
     "metadata": {},
     "output_type": "execute_result"
    }
   ],
   "source": [
    "ser1.array"
   ]
  },
  {
   "cell_type": "code",
   "execution_count": 7,
   "id": "67c58b1e-d22d-4ea2-b448-c2fac6d5faa4",
   "metadata": {},
   "outputs": [
    {
     "data": {
      "text/plain": [
       "array([1, 2, 3, 4, 5, 6, 7])"
      ]
     },
     "execution_count": 7,
     "metadata": {},
     "output_type": "execute_result"
    }
   ],
   "source": [
    "ser1.values"
   ]
  },
  {
   "cell_type": "code",
   "execution_count": 8,
   "id": "9499141b-53db-48d2-8aa6-9cf3dcdcddb5",
   "metadata": {},
   "outputs": [
    {
     "data": {
      "text/plain": [
       "1"
      ]
     },
     "execution_count": 8,
     "metadata": {},
     "output_type": "execute_result"
    }
   ],
   "source": [
    "ser1.ndim"
   ]
  },
  {
   "cell_type": "code",
   "execution_count": 9,
   "id": "23fddb49-aa18-4c49-91f8-221afa47b183",
   "metadata": {},
   "outputs": [
    {
     "data": {
      "text/plain": [
       "(7,)"
      ]
     },
     "execution_count": 9,
     "metadata": {},
     "output_type": "execute_result"
    }
   ],
   "source": [
    "ser1.shape"
   ]
  },
  {
   "cell_type": "code",
   "execution_count": 10,
   "id": "c034e898-76bd-4d91-984f-96b3d3f45658",
   "metadata": {},
   "outputs": [
    {
     "data": {
      "text/plain": [
       "'ex_ser'"
      ]
     },
     "execution_count": 10,
     "metadata": {},
     "output_type": "execute_result"
    }
   ],
   "source": [
    "ser1.name = 'ex_ser'\n",
    "ser1.name"
   ]
  },
  {
   "cell_type": "code",
   "execution_count": 11,
   "id": "ac240fbd-35cf-41cc-8cff-88a68ce1c201",
   "metadata": {},
   "outputs": [
    {
     "data": {
      "text/plain": [
       "'ex_indx'"
      ]
     },
     "execution_count": 11,
     "metadata": {},
     "output_type": "execute_result"
    }
   ],
   "source": [
    "ser1.index.name = 'ex_indx'\n",
    "ser1.index.name"
   ]
  },
  {
   "cell_type": "code",
   "execution_count": 12,
   "id": "e206efee-7e1c-44d0-ae17-cb125bc8692d",
   "metadata": {},
   "outputs": [],
   "source": [
    "# series's attribute is like ndarray's attribute "
   ]
  },
  {
   "cell_type": "code",
   "execution_count": 13,
   "id": "fb0a37d7-16b1-40bc-b00e-d5d3d859bce4",
   "metadata": {},
   "outputs": [],
   "source": [
    "# series indexing slicing masking ... etc"
   ]
  },
  {
   "cell_type": "code",
   "execution_count": 14,
   "id": "81a622e8-85fe-4085-8f87-7bfacc70ab64",
   "metadata": {},
   "outputs": [
    {
     "data": {
      "text/plain": [
       "ex_indx\n",
       "a    1\n",
       "b    2\n",
       "c    3\n",
       "d    4\n",
       "e    5\n",
       "f    6\n",
       "g    7\n",
       "Name: ex_ser, dtype: int32"
      ]
     },
     "execution_count": 14,
     "metadata": {},
     "output_type": "execute_result"
    }
   ],
   "source": [
    "ser1"
   ]
  },
  {
   "cell_type": "code",
   "execution_count": 15,
   "id": "80f23166-89cd-4328-83b9-0e9c4ca5c83c",
   "metadata": {},
   "outputs": [
    {
     "name": "stderr",
     "output_type": "stream",
     "text": [
      "C:\\Users\\huynj\\AppData\\Local\\Temp\\ipykernel_6448\\2003299025.py:2: FutureWarning: Series.__getitem__ treating keys as positions is deprecated. In a future version, integer keys will always be treated as labels (consistent with DataFrame behavior). To access a value by position, use `ser.iloc[pos]`\n",
      "  ser1[1]\n"
     ]
    },
    {
     "data": {
      "text/plain": [
       "2"
      ]
     },
     "execution_count": 15,
     "metadata": {},
     "output_type": "execute_result"
    }
   ],
   "source": [
    "# series can \n",
    "ser1[1]"
   ]
  },
  {
   "cell_type": "code",
   "execution_count": 16,
   "id": "c90dce0c-b243-42d1-8102-451cc2bcdfdd",
   "metadata": {},
   "outputs": [
    {
     "data": {
      "text/plain": [
       "2"
      ]
     },
     "execution_count": 16,
     "metadata": {},
     "output_type": "execute_result"
    }
   ],
   "source": [
    "# label indexing\n",
    "ser1['b']"
   ]
  },
  {
   "cell_type": "code",
   "execution_count": 17,
   "id": "b8821b4e-11f4-4e22-92fa-7c2c12a6e152",
   "metadata": {},
   "outputs": [
    {
     "data": {
      "text/plain": [
       "2"
      ]
     },
     "execution_count": 17,
     "metadata": {},
     "output_type": "execute_result"
    }
   ],
   "source": [
    "ser1.loc['b']"
   ]
  },
  {
   "cell_type": "code",
   "execution_count": 18,
   "id": "874fc3e1-514a-4b89-b5ff-ca528d8dd1ab",
   "metadata": {},
   "outputs": [
    {
     "data": {
      "text/plain": [
       "2"
      ]
     },
     "execution_count": 18,
     "metadata": {},
     "output_type": "execute_result"
    }
   ],
   "source": [
    "ser1.iloc[1]"
   ]
  },
  {
   "cell_type": "code",
   "execution_count": 19,
   "id": "4f4389d2-3801-4517-b37f-0ee421fcf89d",
   "metadata": {},
   "outputs": [
    {
     "data": {
      "text/plain": [
       "ex_indx\n",
       "a    1\n",
       "c    3\n",
       "Name: ex_ser, dtype: int32"
      ]
     },
     "execution_count": 19,
     "metadata": {},
     "output_type": "execute_result"
    }
   ],
   "source": [
    "#fancy indexing\n",
    "ser1[['a','c']]"
   ]
  },
  {
   "cell_type": "code",
   "execution_count": 20,
   "id": "9555651a-a645-4c7f-9868-d7cbaccd2625",
   "metadata": {},
   "outputs": [
    {
     "data": {
      "text/plain": [
       "ex_indx\n",
       "d    4\n",
       "e    5\n",
       "f    6\n",
       "g    7\n",
       "Name: ex_ser, dtype: int32"
      ]
     },
     "execution_count": 20,
     "metadata": {},
     "output_type": "execute_result"
    }
   ],
   "source": [
    "# slicing\n",
    "ser1['d':]"
   ]
  },
  {
   "cell_type": "code",
   "execution_count": 21,
   "id": "4f3bc10d-02e0-4bc9-ac92-b61d5c6caeff",
   "metadata": {},
   "outputs": [
    {
     "data": {
      "text/plain": [
       "ex_indx\n",
       "a    1\n",
       "c    3\n",
       "Name: ex_ser, dtype: int32"
      ]
     },
     "execution_count": 21,
     "metadata": {},
     "output_type": "execute_result"
    }
   ],
   "source": [
    "ser1.loc[['a','c']]"
   ]
  },
  {
   "cell_type": "code",
   "execution_count": 22,
   "id": "debd3df9-187a-46f4-8be6-18214c20995b",
   "metadata": {},
   "outputs": [
    {
     "data": {
      "text/plain": [
       "ex_indx\n",
       "a    1\n",
       "d    4\n",
       "Name: ex_ser, dtype: int32"
      ]
     },
     "execution_count": 22,
     "metadata": {},
     "output_type": "execute_result"
    }
   ],
   "source": [
    "ser1.iloc[[0,3]]"
   ]
  },
  {
   "cell_type": "code",
   "execution_count": 23,
   "id": "9a078d12-b843-41d0-aa50-3b2dddd73b99",
   "metadata": {},
   "outputs": [
    {
     "data": {
      "text/plain": [
       "ex_indx\n",
       "a    False\n",
       "b    False\n",
       "c    False\n",
       "d    False\n",
       "e     True\n",
       "f     True\n",
       "g     True\n",
       "Name: ex_ser, dtype: bool"
      ]
     },
     "execution_count": 23,
     "metadata": {},
     "output_type": "execute_result"
    }
   ],
   "source": [
    "# masking\n",
    "ser1>4"
   ]
  },
  {
   "cell_type": "code",
   "execution_count": 24,
   "id": "17b5acb6-d4ad-4076-b208-bb003e31f4d2",
   "metadata": {},
   "outputs": [
    {
     "data": {
      "text/plain": [
       "ex_indx\n",
       "e    5\n",
       "f    6\n",
       "g    7\n",
       "Name: ex_ser, dtype: int32"
      ]
     },
     "execution_count": 24,
     "metadata": {},
     "output_type": "execute_result"
    }
   ],
   "source": [
    "ser1[ser1>4]"
   ]
  },
  {
   "cell_type": "code",
   "execution_count": 25,
   "id": "d7b0aa68-5082-4bba-9cdf-771b92c4d6c5",
   "metadata": {},
   "outputs": [],
   "source": [
    "# series "
   ]
  },
  {
   "cell_type": "code",
   "execution_count": 26,
   "id": "25fcb46a-0cf8-44f9-9f2b-b69018055cca",
   "metadata": {},
   "outputs": [
    {
     "data": {
      "text/plain": [
       "ex_indx\n",
       "a     2\n",
       "b     4\n",
       "c     6\n",
       "d     8\n",
       "e    10\n",
       "f    12\n",
       "g    14\n",
       "Name: ex_ser, dtype: int32"
      ]
     },
     "execution_count": 26,
     "metadata": {},
     "output_type": "execute_result"
    }
   ],
   "source": [
    "ser2 = ser1*2\n",
    "ser2"
   ]
  },
  {
   "cell_type": "code",
   "execution_count": 27,
   "id": "673628ce-d492-4942-85fe-02ce0ef19684",
   "metadata": {},
   "outputs": [
    {
     "data": {
      "text/plain": [
       "ex_indx\n",
       "a     3\n",
       "b     6\n",
       "c     9\n",
       "d    12\n",
       "e    15\n",
       "f    18\n",
       "g    21\n",
       "Name: ex_ser, dtype: int32"
      ]
     },
     "execution_count": 27,
     "metadata": {},
     "output_type": "execute_result"
    }
   ],
   "source": [
    "np.add(ser1,ser2)"
   ]
  },
  {
   "cell_type": "code",
   "execution_count": 28,
   "id": "631e5e93-df8b-4548-ab7b-470d29c69f84",
   "metadata": {},
   "outputs": [
    {
     "data": {
      "text/plain": [
       "e    10\n",
       "d     9\n",
       "f     8\n",
       "g     7\n",
       "h     6\n",
       "i     5\n",
       "j     4\n",
       "dtype: int32"
      ]
     },
     "execution_count": 28,
     "metadata": {},
     "output_type": "execute_result"
    }
   ],
   "source": [
    "ser3 = pd.Series(np.arange(10,3,-1),\n",
    "                 index = list('edfghij'))\n",
    "ser3"
   ]
  },
  {
   "cell_type": "code",
   "execution_count": 29,
   "id": "59808183-a8ba-44cc-ac97-ffb4296d9fde",
   "metadata": {},
   "outputs": [],
   "source": [
    "# if there is no same index \n",
    "ser4 = ser1+ser3"
   ]
  },
  {
   "cell_type": "code",
   "execution_count": 30,
   "id": "1ec9a3a4-9706-4df7-ad3e-9710e7049ade",
   "metadata": {},
   "outputs": [
    {
     "data": {
      "text/plain": [
       "a     True\n",
       "b     True\n",
       "c     True\n",
       "d    False\n",
       "e    False\n",
       "f    False\n",
       "g    False\n",
       "h     True\n",
       "i     True\n",
       "j     True\n",
       "dtype: bool"
      ]
     },
     "execution_count": 30,
     "metadata": {},
     "output_type": "execute_result"
    }
   ],
   "source": [
    "#na search method\n",
    "pd.isna(ser4)\n",
    "# == ser4.isna()"
   ]
  },
  {
   "cell_type": "code",
   "execution_count": 31,
   "id": "355b48db-187b-4489-8d30-7360f6f3d78c",
   "metadata": {},
   "outputs": [
    {
     "data": {
      "text/plain": [
       "a    False\n",
       "b    False\n",
       "c    False\n",
       "d     True\n",
       "e     True\n",
       "f     True\n",
       "g     True\n",
       "h    False\n",
       "i    False\n",
       "j    False\n",
       "dtype: bool"
      ]
     },
     "execution_count": 31,
     "metadata": {},
     "output_type": "execute_result"
    }
   ],
   "source": [
    "ser4.notna()"
   ]
  },
  {
   "cell_type": "code",
   "execution_count": 32,
   "id": "cefcb25e-908d-4441-9795-b005e27da1c1",
   "metadata": {},
   "outputs": [
    {
     "data": {
      "text/plain": [
       "ex_indx\n",
       "a    1\n",
       "b    2\n",
       "c    3\n",
       "d    4\n",
       "e    5\n",
       "f    6\n",
       "g    7\n",
       "Name: ex_ser, dtype: int32"
      ]
     },
     "execution_count": 32,
     "metadata": {},
     "output_type": "execute_result"
    }
   ],
   "source": [
    "ser1"
   ]
  },
  {
   "cell_type": "code",
   "execution_count": 33,
   "id": "c2506528-05c4-4b1b-8409-3c625c4b5b4e",
   "metadata": {},
   "outputs": [
    {
     "data": {
      "text/plain": [
       "1    1\n",
       "2    2\n",
       "3    3\n",
       "4    4\n",
       "5    5\n",
       "6    6\n",
       "7    7\n",
       "Name: ex_ser, dtype: int32"
      ]
     },
     "execution_count": 33,
     "metadata": {},
     "output_type": "execute_result"
    }
   ],
   "source": [
    "# index change\n",
    "ser1.index = list('1234567')\n",
    "ser1"
   ]
  },
  {
   "cell_type": "code",
   "execution_count": 34,
   "id": "59583e37-67b5-4d72-b9c1-2c8b177cef77",
   "metadata": {},
   "outputs": [],
   "source": [
    "# Series row delete"
   ]
  },
  {
   "cell_type": "code",
   "execution_count": 35,
   "id": "ff4b547e-8190-47da-b57d-22a690453af6",
   "metadata": {},
   "outputs": [
    {
     "data": {
      "text/plain": [
       "2    2\n",
       "3    3\n",
       "4    4\n",
       "5    5\n",
       "6    6\n",
       "7    7\n",
       "Name: ex_ser, dtype: int32"
      ]
     },
     "execution_count": 35,
     "metadata": {},
     "output_type": "execute_result"
    }
   ],
   "source": [
    "# not return \n",
    "del ser1['1']\n",
    "ser1"
   ]
  },
  {
   "cell_type": "code",
   "execution_count": 36,
   "id": "2c2859ec-532f-40b7-a550-4509bf1594e8",
   "metadata": {},
   "outputs": [
    {
     "data": {
      "text/plain": [
       "2    2\n",
       "4    4\n",
       "5    5\n",
       "6    6\n",
       "7    7\n",
       "Name: ex_ser, dtype: int32"
      ]
     },
     "execution_count": 36,
     "metadata": {},
     "output_type": "execute_result"
    }
   ],
   "source": [
    "# return \n",
    "ser1 = ser1.drop('3')\n",
    "ser1"
   ]
  },
  {
   "cell_type": "code",
   "execution_count": 37,
   "id": "ea2698ea-839a-4cdc-8113-9c096c3ae161",
   "metadata": {},
   "outputs": [
    {
     "data": {
      "text/plain": [
       "2    2\n",
       "4    4\n",
       "5    5\n",
       "6    6\n",
       "7    7\n",
       "Name: ex_ser, dtype: int32"
      ]
     },
     "execution_count": 37,
     "metadata": {},
     "output_type": "execute_result"
    }
   ],
   "source": [
    "ser1"
   ]
  },
  {
   "cell_type": "code",
   "execution_count": 38,
   "id": "2ea72c7c-98c8-40de-abf9-e531cc9484cc",
   "metadata": {},
   "outputs": [
    {
     "data": {
      "text/plain": [
       "4    4\n",
       "2    2\n",
       "5    5\n",
       "7    7\n",
       "6    6\n",
       "Name: ex_ser, dtype: int32"
      ]
     },
     "execution_count": 38,
     "metadata": {},
     "output_type": "execute_result"
    }
   ],
   "source": [
    "# etc options\n",
    "ser1 = ser1.reindex(list('42576'))\n",
    "ser1"
   ]
  },
  {
   "cell_type": "code",
   "execution_count": null,
   "id": "3df85ca1-30a1-4075-8c21-a490bbdabb40",
   "metadata": {},
   "outputs": [],
   "source": []
  },
  {
   "cell_type": "code",
   "execution_count": 58,
   "id": "4a6cedf3-5c69-4d38-aa02-e2bec3777f24",
   "metadata": {},
   "outputs": [
    {
     "data": {
      "text/html": [
       "<div>\n",
       "<style scoped>\n",
       "    .dataframe tbody tr th:only-of-type {\n",
       "        vertical-align: middle;\n",
       "    }\n",
       "\n",
       "    .dataframe tbody tr th {\n",
       "        vertical-align: top;\n",
       "    }\n",
       "\n",
       "    .dataframe thead th {\n",
       "        text-align: right;\n",
       "    }\n",
       "</style>\n",
       "<table border=\"1\" class=\"dataframe\">\n",
       "  <thead>\n",
       "    <tr style=\"text-align: right;\">\n",
       "      <th></th>\n",
       "      <th>학번</th>\n",
       "      <th>이름</th>\n",
       "      <th>학점</th>\n",
       "      <th>성별</th>\n",
       "    </tr>\n",
       "  </thead>\n",
       "  <tbody>\n",
       "    <tr>\n",
       "      <th>a</th>\n",
       "      <td>20203300</td>\n",
       "      <td>풍유성</td>\n",
       "      <td>3.004508</td>\n",
       "      <td>여</td>\n",
       "    </tr>\n",
       "    <tr>\n",
       "      <th>b</th>\n",
       "      <td>20203301</td>\n",
       "      <td>제갈영윤</td>\n",
       "      <td>3.684356</td>\n",
       "      <td>남</td>\n",
       "    </tr>\n",
       "    <tr>\n",
       "      <th>c</th>\n",
       "      <td>20203302</td>\n",
       "      <td>설현우</td>\n",
       "      <td>3.289410</td>\n",
       "      <td>남</td>\n",
       "    </tr>\n",
       "    <tr>\n",
       "      <th>d</th>\n",
       "      <td>20203303</td>\n",
       "      <td>백태하</td>\n",
       "      <td>4.065680</td>\n",
       "      <td>남</td>\n",
       "    </tr>\n",
       "    <tr>\n",
       "      <th>e</th>\n",
       "      <td>20203304</td>\n",
       "      <td>정용성</td>\n",
       "      <td>3.874291</td>\n",
       "      <td>여</td>\n",
       "    </tr>\n",
       "    <tr>\n",
       "      <th>f</th>\n",
       "      <td>20203305</td>\n",
       "      <td>허형철</td>\n",
       "      <td>3.563384</td>\n",
       "      <td>여</td>\n",
       "    </tr>\n",
       "    <tr>\n",
       "      <th>g</th>\n",
       "      <td>20203306</td>\n",
       "      <td>하주연</td>\n",
       "      <td>4.101153</td>\n",
       "      <td>남</td>\n",
       "    </tr>\n",
       "    <tr>\n",
       "      <th>h</th>\n",
       "      <td>20203307</td>\n",
       "      <td>사공재주</td>\n",
       "      <td>4.306064</td>\n",
       "      <td>여</td>\n",
       "    </tr>\n",
       "    <tr>\n",
       "      <th>i</th>\n",
       "      <td>20203308</td>\n",
       "      <td>손창희</td>\n",
       "      <td>4.304477</td>\n",
       "      <td>남</td>\n",
       "    </tr>\n",
       "    <tr>\n",
       "      <th>j</th>\n",
       "      <td>20203309</td>\n",
       "      <td>유용환</td>\n",
       "      <td>3.865725</td>\n",
       "      <td>여</td>\n",
       "    </tr>\n",
       "  </tbody>\n",
       "</table>\n",
       "</div>"
      ],
      "text/plain": [
       "         학번    이름        학점 성별\n",
       "a  20203300   풍유성  3.004508  여\n",
       "b  20203301  제갈영윤  3.684356  남\n",
       "c  20203302   설현우  3.289410  남\n",
       "d  20203303   백태하  4.065680  남\n",
       "e  20203304   정용성  3.874291  여\n",
       "f  20203305   허형철  3.563384  여\n",
       "g  20203306   하주연  4.101153  남\n",
       "h  20203307  사공재주  4.306064  여\n",
       "i  20203308   손창희  4.304477  남\n",
       "j  20203309   유용환  3.865725  여"
      ]
     },
     "execution_count": 58,
     "metadata": {},
     "output_type": "execute_result"
    }
   ],
   "source": [
    "#2. DataFrame\n",
    "\n",
    "# make dataframe obj\n",
    "\n",
    "# make DataFrame : same size dicts or series or same size ndim ndarray etc.. \n",
    "df1 = {\n",
    "    '학번' : np.arange(20203300, 20203310),\n",
    "    '이름' : ['풍유성', '제갈영윤', '설현우', '백태하', '정용성', '허형철', '하주연', '사공재주', '손창희', '유용환'],\n",
    "    '학점' : np.random.uniform(3, 4.5, 10),\n",
    "    '성별' : np.random.choice(['남','여'], 10)\n",
    "}\n",
    "df1 = pd.DataFrame(df1)\n",
    "df1.index = list('abcdefghij')\n",
    "df1"
   ]
  },
  {
   "cell_type": "code",
   "execution_count": 40,
   "id": "5cfa92c1-10a5-4890-9c02-454f6bff6eab",
   "metadata": {},
   "outputs": [],
   "source": [
    "# Dataframe attributes"
   ]
  },
  {
   "cell_type": "code",
   "execution_count": 41,
   "id": "e6fb9d5e-e5e6-4ac7-957c-bff66f3eacb7",
   "metadata": {},
   "outputs": [
    {
     "data": {
      "text/html": [
       "<div>\n",
       "<style scoped>\n",
       "    .dataframe tbody tr th:only-of-type {\n",
       "        vertical-align: middle;\n",
       "    }\n",
       "\n",
       "    .dataframe tbody tr th {\n",
       "        vertical-align: top;\n",
       "    }\n",
       "\n",
       "    .dataframe thead th {\n",
       "        text-align: right;\n",
       "    }\n",
       "</style>\n",
       "<table border=\"1\" class=\"dataframe\">\n",
       "  <thead>\n",
       "    <tr style=\"text-align: right;\">\n",
       "      <th>ex_c_name</th>\n",
       "      <th>학번</th>\n",
       "      <th>이름</th>\n",
       "      <th>학점</th>\n",
       "      <th>성별</th>\n",
       "    </tr>\n",
       "    <tr>\n",
       "      <th>ex_i_name</th>\n",
       "      <th></th>\n",
       "      <th></th>\n",
       "      <th></th>\n",
       "      <th></th>\n",
       "    </tr>\n",
       "  </thead>\n",
       "  <tbody>\n",
       "    <tr>\n",
       "      <th>a</th>\n",
       "      <td>20203300</td>\n",
       "      <td>풍유성</td>\n",
       "      <td>3.532963</td>\n",
       "      <td>여</td>\n",
       "    </tr>\n",
       "    <tr>\n",
       "      <th>b</th>\n",
       "      <td>20203301</td>\n",
       "      <td>제갈영윤</td>\n",
       "      <td>4.272661</td>\n",
       "      <td>남</td>\n",
       "    </tr>\n",
       "    <tr>\n",
       "      <th>c</th>\n",
       "      <td>20203302</td>\n",
       "      <td>설현우</td>\n",
       "      <td>3.945900</td>\n",
       "      <td>여</td>\n",
       "    </tr>\n",
       "    <tr>\n",
       "      <th>d</th>\n",
       "      <td>20203303</td>\n",
       "      <td>백태하</td>\n",
       "      <td>4.396391</td>\n",
       "      <td>여</td>\n",
       "    </tr>\n",
       "    <tr>\n",
       "      <th>e</th>\n",
       "      <td>20203304</td>\n",
       "      <td>정용성</td>\n",
       "      <td>4.063440</td>\n",
       "      <td>남</td>\n",
       "    </tr>\n",
       "    <tr>\n",
       "      <th>f</th>\n",
       "      <td>20203305</td>\n",
       "      <td>허형철</td>\n",
       "      <td>3.064323</td>\n",
       "      <td>여</td>\n",
       "    </tr>\n",
       "    <tr>\n",
       "      <th>g</th>\n",
       "      <td>20203306</td>\n",
       "      <td>하주연</td>\n",
       "      <td>3.554681</td>\n",
       "      <td>여</td>\n",
       "    </tr>\n",
       "    <tr>\n",
       "      <th>h</th>\n",
       "      <td>20203307</td>\n",
       "      <td>사공재주</td>\n",
       "      <td>3.617575</td>\n",
       "      <td>여</td>\n",
       "    </tr>\n",
       "    <tr>\n",
       "      <th>i</th>\n",
       "      <td>20203308</td>\n",
       "      <td>손창희</td>\n",
       "      <td>3.117372</td>\n",
       "      <td>남</td>\n",
       "    </tr>\n",
       "    <tr>\n",
       "      <th>j</th>\n",
       "      <td>20203309</td>\n",
       "      <td>유용환</td>\n",
       "      <td>3.778316</td>\n",
       "      <td>여</td>\n",
       "    </tr>\n",
       "  </tbody>\n",
       "</table>\n",
       "</div>"
      ],
      "text/plain": [
       "ex_c_name        학번    이름        학점 성별\n",
       "ex_i_name                             \n",
       "a          20203300   풍유성  3.532963  여\n",
       "b          20203301  제갈영윤  4.272661  남\n",
       "c          20203302   설현우  3.945900  여\n",
       "d          20203303   백태하  4.396391  여\n",
       "e          20203304   정용성  4.063440  남\n",
       "f          20203305   허형철  3.064323  여\n",
       "g          20203306   하주연  3.554681  여\n",
       "h          20203307  사공재주  3.617575  여\n",
       "i          20203308   손창희  3.117372  남\n",
       "j          20203309   유용환  3.778316  여"
      ]
     },
     "execution_count": 41,
     "metadata": {},
     "output_type": "execute_result"
    }
   ],
   "source": [
    "df1.columns.name = 'ex_c_name'\n",
    "df1.index.name = 'ex_i_name'\n",
    "df1"
   ]
  },
  {
   "cell_type": "code",
   "execution_count": 42,
   "id": "218eae98-ef05-452d-bc55-dda687d8222d",
   "metadata": {},
   "outputs": [
    {
     "data": {
      "text/plain": [
       "Index(['학번', '이름', '학점', '성별'], dtype='object', name='ex_c_name')"
      ]
     },
     "execution_count": 42,
     "metadata": {},
     "output_type": "execute_result"
    }
   ],
   "source": [
    "df1.columns"
   ]
  },
  {
   "cell_type": "code",
   "execution_count": 43,
   "id": "5d9ec3c2-13e6-492e-95c5-f97c77ac5f26",
   "metadata": {},
   "outputs": [
    {
     "data": {
      "text/plain": [
       "Index(['a', 'b', 'c', 'd', 'e', 'f', 'g', 'h', 'i', 'j'], dtype='object', name='ex_i_name')"
      ]
     },
     "execution_count": 43,
     "metadata": {},
     "output_type": "execute_result"
    }
   ],
   "source": [
    "df1.index"
   ]
  },
  {
   "cell_type": "code",
   "execution_count": 97,
   "id": "63dc6045-deb1-4ab7-bd1a-ac2bd86f21b1",
   "metadata": {},
   "outputs": [
    {
     "data": {
      "text/html": [
       "<div>\n",
       "<style scoped>\n",
       "    .dataframe tbody tr th:only-of-type {\n",
       "        vertical-align: middle;\n",
       "    }\n",
       "\n",
       "    .dataframe tbody tr th {\n",
       "        vertical-align: top;\n",
       "    }\n",
       "\n",
       "    .dataframe thead th {\n",
       "        text-align: right;\n",
       "    }\n",
       "</style>\n",
       "<table border=\"1\" class=\"dataframe\">\n",
       "  <thead>\n",
       "    <tr style=\"text-align: right;\">\n",
       "      <th></th>\n",
       "      <th>a</th>\n",
       "      <th>b</th>\n",
       "      <th>c</th>\n",
       "      <th>d</th>\n",
       "      <th>e</th>\n",
       "      <th>f</th>\n",
       "      <th>g</th>\n",
       "      <th>h</th>\n",
       "      <th>i</th>\n",
       "      <th>j</th>\n",
       "    </tr>\n",
       "  </thead>\n",
       "  <tbody>\n",
       "    <tr>\n",
       "      <th>학번</th>\n",
       "      <td>20203300</td>\n",
       "      <td>20203301</td>\n",
       "      <td>20203302</td>\n",
       "      <td>20203303</td>\n",
       "      <td>20203304</td>\n",
       "      <td>20203305</td>\n",
       "      <td>20203306</td>\n",
       "      <td>20203307</td>\n",
       "      <td>20203308</td>\n",
       "      <td>20203309</td>\n",
       "    </tr>\n",
       "    <tr>\n",
       "      <th>이름</th>\n",
       "      <td>풍유성</td>\n",
       "      <td>제갈영윤</td>\n",
       "      <td>설현우</td>\n",
       "      <td>백태하</td>\n",
       "      <td>정용성</td>\n",
       "      <td>허형철</td>\n",
       "      <td>하주연</td>\n",
       "      <td>사공재주</td>\n",
       "      <td>손창희</td>\n",
       "      <td>유용환</td>\n",
       "    </tr>\n",
       "    <tr>\n",
       "      <th>학점</th>\n",
       "      <td>3.854855</td>\n",
       "      <td>4.022433</td>\n",
       "      <td>3.351779</td>\n",
       "      <td>3.278073</td>\n",
       "      <td>4.498294</td>\n",
       "      <td>100.0</td>\n",
       "      <td>100.0</td>\n",
       "      <td>100.0</td>\n",
       "      <td>100.0</td>\n",
       "      <td>4.112367</td>\n",
       "    </tr>\n",
       "    <tr>\n",
       "      <th>성별</th>\n",
       "      <td>남</td>\n",
       "      <td>남</td>\n",
       "      <td>남</td>\n",
       "      <td>남</td>\n",
       "      <td>남</td>\n",
       "      <td>여</td>\n",
       "      <td>여</td>\n",
       "      <td>여</td>\n",
       "      <td>여</td>\n",
       "      <td>남</td>\n",
       "    </tr>\n",
       "  </tbody>\n",
       "</table>\n",
       "</div>"
      ],
      "text/plain": [
       "           a         b         c         d         e         f         g  \\\n",
       "학번  20203300  20203301  20203302  20203303  20203304  20203305  20203306   \n",
       "이름       풍유성      제갈영윤       설현우       백태하       정용성       허형철       하주연   \n",
       "학점  3.854855  4.022433  3.351779  3.278073  4.498294     100.0     100.0   \n",
       "성별         남         남         남         남         남         여         여   \n",
       "\n",
       "           h         i         j  \n",
       "학번  20203307  20203308  20203309  \n",
       "이름      사공재주       손창희       유용환  \n",
       "학점     100.0     100.0  4.112367  \n",
       "성별         여         여         남  "
      ]
     },
     "execution_count": 97,
     "metadata": {},
     "output_type": "execute_result"
    }
   ],
   "source": [
    "df1.T"
   ]
  },
  {
   "cell_type": "code",
   "execution_count": 44,
   "id": "4e027b33-0ee9-4e41-81ae-06bfee06da8b",
   "metadata": {},
   "outputs": [
    {
     "data": {
      "text/plain": [
       "ex_i_name\n",
       "a    20203300\n",
       "b    20203301\n",
       "c    20203302\n",
       "d    20203303\n",
       "e    20203304\n",
       "f    20203305\n",
       "g    20203306\n",
       "h    20203307\n",
       "i    20203308\n",
       "j    20203309\n",
       "Name: 학번, dtype: int32"
      ]
     },
     "execution_count": 44,
     "metadata": {},
     "output_type": "execute_result"
    }
   ],
   "source": [
    "# dataframe's one column is Series\n",
    "df1['학번']\n",
    "# == df1.학번"
   ]
  },
  {
   "cell_type": "code",
   "execution_count": 45,
   "id": "ab96f575-0266-4c78-9792-e622720955f3",
   "metadata": {},
   "outputs": [],
   "source": [
    "# df's indexing \n",
    "\n",
    "# using loc, iloc -> same as ndarray "
   ]
  },
  {
   "cell_type": "code",
   "execution_count": 46,
   "id": "5f6bb22b-5d59-4231-8fae-991cbac25e89",
   "metadata": {},
   "outputs": [
    {
     "data": {
      "text/html": [
       "<div>\n",
       "<style scoped>\n",
       "    .dataframe tbody tr th:only-of-type {\n",
       "        vertical-align: middle;\n",
       "    }\n",
       "\n",
       "    .dataframe tbody tr th {\n",
       "        vertical-align: top;\n",
       "    }\n",
       "\n",
       "    .dataframe thead th {\n",
       "        text-align: right;\n",
       "    }\n",
       "</style>\n",
       "<table border=\"1\" class=\"dataframe\">\n",
       "  <thead>\n",
       "    <tr style=\"text-align: right;\">\n",
       "      <th>ex_c_name</th>\n",
       "      <th>학번</th>\n",
       "      <th>성별</th>\n",
       "    </tr>\n",
       "    <tr>\n",
       "      <th>ex_i_name</th>\n",
       "      <th></th>\n",
       "      <th></th>\n",
       "    </tr>\n",
       "  </thead>\n",
       "  <tbody>\n",
       "    <tr>\n",
       "      <th>a</th>\n",
       "      <td>20203300</td>\n",
       "      <td>여</td>\n",
       "    </tr>\n",
       "    <tr>\n",
       "      <th>b</th>\n",
       "      <td>20203301</td>\n",
       "      <td>남</td>\n",
       "    </tr>\n",
       "    <tr>\n",
       "      <th>c</th>\n",
       "      <td>20203302</td>\n",
       "      <td>여</td>\n",
       "    </tr>\n",
       "    <tr>\n",
       "      <th>d</th>\n",
       "      <td>20203303</td>\n",
       "      <td>여</td>\n",
       "    </tr>\n",
       "    <tr>\n",
       "      <th>e</th>\n",
       "      <td>20203304</td>\n",
       "      <td>남</td>\n",
       "    </tr>\n",
       "    <tr>\n",
       "      <th>f</th>\n",
       "      <td>20203305</td>\n",
       "      <td>여</td>\n",
       "    </tr>\n",
       "    <tr>\n",
       "      <th>g</th>\n",
       "      <td>20203306</td>\n",
       "      <td>여</td>\n",
       "    </tr>\n",
       "    <tr>\n",
       "      <th>h</th>\n",
       "      <td>20203307</td>\n",
       "      <td>여</td>\n",
       "    </tr>\n",
       "    <tr>\n",
       "      <th>i</th>\n",
       "      <td>20203308</td>\n",
       "      <td>남</td>\n",
       "    </tr>\n",
       "    <tr>\n",
       "      <th>j</th>\n",
       "      <td>20203309</td>\n",
       "      <td>여</td>\n",
       "    </tr>\n",
       "  </tbody>\n",
       "</table>\n",
       "</div>"
      ],
      "text/plain": [
       "ex_c_name        학번 성별\n",
       "ex_i_name             \n",
       "a          20203300  여\n",
       "b          20203301  남\n",
       "c          20203302  여\n",
       "d          20203303  여\n",
       "e          20203304  남\n",
       "f          20203305  여\n",
       "g          20203306  여\n",
       "h          20203307  여\n",
       "i          20203308  남\n",
       "j          20203309  여"
      ]
     },
     "execution_count": 46,
     "metadata": {},
     "output_type": "execute_result"
    }
   ],
   "source": [
    "df1[['학번','성별']]"
   ]
  },
  {
   "cell_type": "code",
   "execution_count": 47,
   "id": "6611e678-d1eb-4172-b36e-ae907a0e3b73",
   "metadata": {},
   "outputs": [
    {
     "data": {
      "text/html": [
       "<div>\n",
       "<style scoped>\n",
       "    .dataframe tbody tr th:only-of-type {\n",
       "        vertical-align: middle;\n",
       "    }\n",
       "\n",
       "    .dataframe tbody tr th {\n",
       "        vertical-align: top;\n",
       "    }\n",
       "\n",
       "    .dataframe thead th {\n",
       "        text-align: right;\n",
       "    }\n",
       "</style>\n",
       "<table border=\"1\" class=\"dataframe\">\n",
       "  <thead>\n",
       "    <tr style=\"text-align: right;\">\n",
       "      <th>ex_c_name</th>\n",
       "      <th>학번</th>\n",
       "      <th>이름</th>\n",
       "      <th>학점</th>\n",
       "      <th>성별</th>\n",
       "    </tr>\n",
       "    <tr>\n",
       "      <th>ex_i_name</th>\n",
       "      <th></th>\n",
       "      <th></th>\n",
       "      <th></th>\n",
       "      <th></th>\n",
       "    </tr>\n",
       "  </thead>\n",
       "  <tbody>\n",
       "    <tr>\n",
       "      <th>a</th>\n",
       "      <td>20203300</td>\n",
       "      <td>풍유성</td>\n",
       "      <td>3.532963</td>\n",
       "      <td>여</td>\n",
       "    </tr>\n",
       "    <tr>\n",
       "      <th>b</th>\n",
       "      <td>20203301</td>\n",
       "      <td>제갈영윤</td>\n",
       "      <td>4.272661</td>\n",
       "      <td>남</td>\n",
       "    </tr>\n",
       "    <tr>\n",
       "      <th>c</th>\n",
       "      <td>20203302</td>\n",
       "      <td>설현우</td>\n",
       "      <td>3.945900</td>\n",
       "      <td>여</td>\n",
       "    </tr>\n",
       "    <tr>\n",
       "      <th>d</th>\n",
       "      <td>20203303</td>\n",
       "      <td>백태하</td>\n",
       "      <td>4.396391</td>\n",
       "      <td>여</td>\n",
       "    </tr>\n",
       "    <tr>\n",
       "      <th>e</th>\n",
       "      <td>20203304</td>\n",
       "      <td>정용성</td>\n",
       "      <td>4.063440</td>\n",
       "      <td>남</td>\n",
       "    </tr>\n",
       "    <tr>\n",
       "      <th>f</th>\n",
       "      <td>20203305</td>\n",
       "      <td>허형철</td>\n",
       "      <td>3.064323</td>\n",
       "      <td>여</td>\n",
       "    </tr>\n",
       "    <tr>\n",
       "      <th>g</th>\n",
       "      <td>20203306</td>\n",
       "      <td>하주연</td>\n",
       "      <td>3.554681</td>\n",
       "      <td>여</td>\n",
       "    </tr>\n",
       "    <tr>\n",
       "      <th>h</th>\n",
       "      <td>20203307</td>\n",
       "      <td>사공재주</td>\n",
       "      <td>3.617575</td>\n",
       "      <td>여</td>\n",
       "    </tr>\n",
       "    <tr>\n",
       "      <th>i</th>\n",
       "      <td>20203308</td>\n",
       "      <td>손창희</td>\n",
       "      <td>3.117372</td>\n",
       "      <td>남</td>\n",
       "    </tr>\n",
       "    <tr>\n",
       "      <th>j</th>\n",
       "      <td>20203309</td>\n",
       "      <td>유용환</td>\n",
       "      <td>3.778316</td>\n",
       "      <td>여</td>\n",
       "    </tr>\n",
       "  </tbody>\n",
       "</table>\n",
       "</div>"
      ],
      "text/plain": [
       "ex_c_name        학번    이름        학점 성별\n",
       "ex_i_name                             \n",
       "a          20203300   풍유성  3.532963  여\n",
       "b          20203301  제갈영윤  4.272661  남\n",
       "c          20203302   설현우  3.945900  여\n",
       "d          20203303   백태하  4.396391  여\n",
       "e          20203304   정용성  4.063440  남\n",
       "f          20203305   허형철  3.064323  여\n",
       "g          20203306   하주연  3.554681  여\n",
       "h          20203307  사공재주  3.617575  여\n",
       "i          20203308   손창희  3.117372  남\n",
       "j          20203309   유용환  3.778316  여"
      ]
     },
     "execution_count": 47,
     "metadata": {},
     "output_type": "execute_result"
    }
   ],
   "source": [
    "df1[:]"
   ]
  },
  {
   "cell_type": "code",
   "execution_count": 48,
   "id": "47c1b769-2a70-47a8-ac0b-a54b60f175e5",
   "metadata": {},
   "outputs": [
    {
     "data": {
      "text/html": [
       "<div>\n",
       "<style scoped>\n",
       "    .dataframe tbody tr th:only-of-type {\n",
       "        vertical-align: middle;\n",
       "    }\n",
       "\n",
       "    .dataframe tbody tr th {\n",
       "        vertical-align: top;\n",
       "    }\n",
       "\n",
       "    .dataframe thead th {\n",
       "        text-align: right;\n",
       "    }\n",
       "</style>\n",
       "<table border=\"1\" class=\"dataframe\">\n",
       "  <thead>\n",
       "    <tr style=\"text-align: right;\">\n",
       "      <th>ex_c_name</th>\n",
       "      <th>학번</th>\n",
       "      <th>이름</th>\n",
       "      <th>학점</th>\n",
       "      <th>성별</th>\n",
       "    </tr>\n",
       "    <tr>\n",
       "      <th>ex_i_name</th>\n",
       "      <th></th>\n",
       "      <th></th>\n",
       "      <th></th>\n",
       "      <th></th>\n",
       "    </tr>\n",
       "  </thead>\n",
       "  <tbody>\n",
       "    <tr>\n",
       "      <th>g</th>\n",
       "      <td>20203306</td>\n",
       "      <td>하주연</td>\n",
       "      <td>3.554681</td>\n",
       "      <td>여</td>\n",
       "    </tr>\n",
       "    <tr>\n",
       "      <th>h</th>\n",
       "      <td>20203307</td>\n",
       "      <td>사공재주</td>\n",
       "      <td>3.617575</td>\n",
       "      <td>여</td>\n",
       "    </tr>\n",
       "    <tr>\n",
       "      <th>i</th>\n",
       "      <td>20203308</td>\n",
       "      <td>손창희</td>\n",
       "      <td>3.117372</td>\n",
       "      <td>남</td>\n",
       "    </tr>\n",
       "    <tr>\n",
       "      <th>j</th>\n",
       "      <td>20203309</td>\n",
       "      <td>유용환</td>\n",
       "      <td>3.778316</td>\n",
       "      <td>여</td>\n",
       "    </tr>\n",
       "  </tbody>\n",
       "</table>\n",
       "</div>"
      ],
      "text/plain": [
       "ex_c_name        학번    이름        학점 성별\n",
       "ex_i_name                             \n",
       "g          20203306   하주연  3.554681  여\n",
       "h          20203307  사공재주  3.617575  여\n",
       "i          20203308   손창희  3.117372  남\n",
       "j          20203309   유용환  3.778316  여"
      ]
     },
     "execution_count": 48,
     "metadata": {},
     "output_type": "execute_result"
    }
   ],
   "source": [
    "df1[df1['학번'] >  20203305]"
   ]
  },
  {
   "cell_type": "code",
   "execution_count": 49,
   "id": "d8317450-33c5-409b-aaba-307ec6b52426",
   "metadata": {},
   "outputs": [
    {
     "data": {
      "text/html": [
       "<div>\n",
       "<style scoped>\n",
       "    .dataframe tbody tr th:only-of-type {\n",
       "        vertical-align: middle;\n",
       "    }\n",
       "\n",
       "    .dataframe tbody tr th {\n",
       "        vertical-align: top;\n",
       "    }\n",
       "\n",
       "    .dataframe thead th {\n",
       "        text-align: right;\n",
       "    }\n",
       "</style>\n",
       "<table border=\"1\" class=\"dataframe\">\n",
       "  <thead>\n",
       "    <tr style=\"text-align: right;\">\n",
       "      <th>ex_c_name</th>\n",
       "      <th>학번</th>\n",
       "      <th>이름</th>\n",
       "      <th>학점</th>\n",
       "      <th>성별</th>\n",
       "    </tr>\n",
       "    <tr>\n",
       "      <th>ex_i_name</th>\n",
       "      <th></th>\n",
       "      <th></th>\n",
       "      <th></th>\n",
       "      <th></th>\n",
       "    </tr>\n",
       "  </thead>\n",
       "  <tbody>\n",
       "    <tr>\n",
       "      <th>a</th>\n",
       "      <td>20203300</td>\n",
       "      <td>풍유성</td>\n",
       "      <td>3.532963</td>\n",
       "      <td>여</td>\n",
       "    </tr>\n",
       "    <tr>\n",
       "      <th>b</th>\n",
       "      <td>20203301</td>\n",
       "      <td>제갈영윤</td>\n",
       "      <td>4.272661</td>\n",
       "      <td>남</td>\n",
       "    </tr>\n",
       "    <tr>\n",
       "      <th>c</th>\n",
       "      <td>20203302</td>\n",
       "      <td>설현우</td>\n",
       "      <td>3.945900</td>\n",
       "      <td>여</td>\n",
       "    </tr>\n",
       "    <tr>\n",
       "      <th>d</th>\n",
       "      <td>20203303</td>\n",
       "      <td>백태하</td>\n",
       "      <td>4.396391</td>\n",
       "      <td>여</td>\n",
       "    </tr>\n",
       "  </tbody>\n",
       "</table>\n",
       "</div>"
      ],
      "text/plain": [
       "ex_c_name        학번    이름        학점 성별\n",
       "ex_i_name                             \n",
       "a          20203300   풍유성  3.532963  여\n",
       "b          20203301  제갈영윤  4.272661  남\n",
       "c          20203302   설현우  3.945900  여\n",
       "d          20203303   백태하  4.396391  여"
      ]
     },
     "execution_count": 49,
     "metadata": {},
     "output_type": "execute_result"
    }
   ],
   "source": [
    "# loc indexer - include *end\n",
    "df1.loc['a':'d']"
   ]
  },
  {
   "cell_type": "code",
   "execution_count": 50,
   "id": "23f5e2a4-4ac9-4192-bf9e-26d40e630b60",
   "metadata": {},
   "outputs": [
    {
     "data": {
      "text/html": [
       "<div>\n",
       "<style scoped>\n",
       "    .dataframe tbody tr th:only-of-type {\n",
       "        vertical-align: middle;\n",
       "    }\n",
       "\n",
       "    .dataframe tbody tr th {\n",
       "        vertical-align: top;\n",
       "    }\n",
       "\n",
       "    .dataframe thead th {\n",
       "        text-align: right;\n",
       "    }\n",
       "</style>\n",
       "<table border=\"1\" class=\"dataframe\">\n",
       "  <thead>\n",
       "    <tr style=\"text-align: right;\">\n",
       "      <th>ex_c_name</th>\n",
       "      <th>학번</th>\n",
       "      <th>이름</th>\n",
       "      <th>학점</th>\n",
       "      <th>성별</th>\n",
       "    </tr>\n",
       "    <tr>\n",
       "      <th>ex_i_name</th>\n",
       "      <th></th>\n",
       "      <th></th>\n",
       "      <th></th>\n",
       "      <th></th>\n",
       "    </tr>\n",
       "  </thead>\n",
       "  <tbody>\n",
       "    <tr>\n",
       "      <th>a</th>\n",
       "      <td>20203300</td>\n",
       "      <td>풍유성</td>\n",
       "      <td>3.532963</td>\n",
       "      <td>여</td>\n",
       "    </tr>\n",
       "    <tr>\n",
       "      <th>b</th>\n",
       "      <td>20203301</td>\n",
       "      <td>제갈영윤</td>\n",
       "      <td>4.272661</td>\n",
       "      <td>남</td>\n",
       "    </tr>\n",
       "    <tr>\n",
       "      <th>c</th>\n",
       "      <td>20203302</td>\n",
       "      <td>설현우</td>\n",
       "      <td>3.945900</td>\n",
       "      <td>여</td>\n",
       "    </tr>\n",
       "    <tr>\n",
       "      <th>d</th>\n",
       "      <td>20203303</td>\n",
       "      <td>백태하</td>\n",
       "      <td>4.396391</td>\n",
       "      <td>여</td>\n",
       "    </tr>\n",
       "  </tbody>\n",
       "</table>\n",
       "</div>"
      ],
      "text/plain": [
       "ex_c_name        학번    이름        학점 성별\n",
       "ex_i_name                             \n",
       "a          20203300   풍유성  3.532963  여\n",
       "b          20203301  제갈영윤  4.272661  남\n",
       "c          20203302   설현우  3.945900  여\n",
       "d          20203303   백태하  4.396391  여"
      ]
     },
     "execution_count": 50,
     "metadata": {},
     "output_type": "execute_result"
    }
   ],
   "source": [
    "df1.iloc[0:4]"
   ]
  },
  {
   "cell_type": "code",
   "execution_count": 51,
   "id": "d356d068-af60-46ab-946c-eb47a430a882",
   "metadata": {},
   "outputs": [
    {
     "data": {
      "text/plain": [
       "ex_i_name\n",
       "e    False\n",
       "f     True\n",
       "g     True\n",
       "h     True\n",
       "Name: 학번, dtype: bool"
      ]
     },
     "execution_count": 51,
     "metadata": {},
     "output_type": "execute_result"
    }
   ],
   "source": [
    "df1.loc['e':'h','학번'] > 20203304"
   ]
  },
  {
   "cell_type": "code",
   "execution_count": 52,
   "id": "beb7b613-80fe-476c-a893-20f9c29cf551",
   "metadata": {},
   "outputs": [
    {
     "data": {
      "text/html": [
       "<div>\n",
       "<style scoped>\n",
       "    .dataframe tbody tr th:only-of-type {\n",
       "        vertical-align: middle;\n",
       "    }\n",
       "\n",
       "    .dataframe tbody tr th {\n",
       "        vertical-align: top;\n",
       "    }\n",
       "\n",
       "    .dataframe thead th {\n",
       "        text-align: right;\n",
       "    }\n",
       "</style>\n",
       "<table border=\"1\" class=\"dataframe\">\n",
       "  <thead>\n",
       "    <tr style=\"text-align: right;\">\n",
       "      <th>ex_c_name</th>\n",
       "      <th>학번</th>\n",
       "      <th>성별</th>\n",
       "    </tr>\n",
       "    <tr>\n",
       "      <th>ex_i_name</th>\n",
       "      <th></th>\n",
       "      <th></th>\n",
       "    </tr>\n",
       "  </thead>\n",
       "  <tbody>\n",
       "    <tr>\n",
       "      <th>a</th>\n",
       "      <td>20203300</td>\n",
       "      <td>여</td>\n",
       "    </tr>\n",
       "    <tr>\n",
       "      <th>c</th>\n",
       "      <td>20203302</td>\n",
       "      <td>여</td>\n",
       "    </tr>\n",
       "  </tbody>\n",
       "</table>\n",
       "</div>"
      ],
      "text/plain": [
       "ex_c_name        학번 성별\n",
       "ex_i_name             \n",
       "a          20203300  여\n",
       "c          20203302  여"
      ]
     },
     "execution_count": 52,
     "metadata": {},
     "output_type": "execute_result"
    }
   ],
   "source": [
    "df1.loc[['a','c'],['학번','성별']]"
   ]
  },
  {
   "cell_type": "code",
   "execution_count": 53,
   "id": "cae2cba4-0b2a-4bff-ae55-d66a37576dfa",
   "metadata": {},
   "outputs": [
    {
     "data": {
      "text/html": [
       "<div>\n",
       "<style scoped>\n",
       "    .dataframe tbody tr th:only-of-type {\n",
       "        vertical-align: middle;\n",
       "    }\n",
       "\n",
       "    .dataframe tbody tr th {\n",
       "        vertical-align: top;\n",
       "    }\n",
       "\n",
       "    .dataframe thead th {\n",
       "        text-align: right;\n",
       "    }\n",
       "</style>\n",
       "<table border=\"1\" class=\"dataframe\">\n",
       "  <thead>\n",
       "    <tr style=\"text-align: right;\">\n",
       "      <th>ex_c_name</th>\n",
       "      <th>학번</th>\n",
       "      <th>이름</th>\n",
       "      <th>학점</th>\n",
       "      <th>성별</th>\n",
       "    </tr>\n",
       "    <tr>\n",
       "      <th>ex_i_name</th>\n",
       "      <th></th>\n",
       "      <th></th>\n",
       "      <th></th>\n",
       "      <th></th>\n",
       "    </tr>\n",
       "  </thead>\n",
       "  <tbody>\n",
       "    <tr>\n",
       "      <th>a</th>\n",
       "      <td>20203300</td>\n",
       "      <td>풍유성</td>\n",
       "      <td>3.532963</td>\n",
       "      <td>여</td>\n",
       "    </tr>\n",
       "    <tr>\n",
       "      <th>b</th>\n",
       "      <td>20203301</td>\n",
       "      <td>제갈영윤</td>\n",
       "      <td>4.272661</td>\n",
       "      <td>남</td>\n",
       "    </tr>\n",
       "    <tr>\n",
       "      <th>c</th>\n",
       "      <td>20203302</td>\n",
       "      <td>설현우</td>\n",
       "      <td>3.945900</td>\n",
       "      <td>여</td>\n",
       "    </tr>\n",
       "    <tr>\n",
       "      <th>d</th>\n",
       "      <td>20203303</td>\n",
       "      <td>백태하</td>\n",
       "      <td>4.396391</td>\n",
       "      <td>여</td>\n",
       "    </tr>\n",
       "    <tr>\n",
       "      <th>e</th>\n",
       "      <td>20203304</td>\n",
       "      <td>정용성</td>\n",
       "      <td>4.063440</td>\n",
       "      <td>남</td>\n",
       "    </tr>\n",
       "    <tr>\n",
       "      <th>f</th>\n",
       "      <td>20203305</td>\n",
       "      <td>허형철</td>\n",
       "      <td>3.064323</td>\n",
       "      <td>여</td>\n",
       "    </tr>\n",
       "    <tr>\n",
       "      <th>g</th>\n",
       "      <td>20203306</td>\n",
       "      <td>하주연</td>\n",
       "      <td>3.554681</td>\n",
       "      <td>여</td>\n",
       "    </tr>\n",
       "    <tr>\n",
       "      <th>h</th>\n",
       "      <td>20203307</td>\n",
       "      <td>사공재주</td>\n",
       "      <td>3.617575</td>\n",
       "      <td>여</td>\n",
       "    </tr>\n",
       "    <tr>\n",
       "      <th>i</th>\n",
       "      <td>20203308</td>\n",
       "      <td>손창희</td>\n",
       "      <td>3.117372</td>\n",
       "      <td>남</td>\n",
       "    </tr>\n",
       "    <tr>\n",
       "      <th>j</th>\n",
       "      <td>20203309</td>\n",
       "      <td>유용환</td>\n",
       "      <td>3.778316</td>\n",
       "      <td>여</td>\n",
       "    </tr>\n",
       "  </tbody>\n",
       "</table>\n",
       "</div>"
      ],
      "text/plain": [
       "ex_c_name        학번    이름        학점 성별\n",
       "ex_i_name                             \n",
       "a          20203300   풍유성  3.532963  여\n",
       "b          20203301  제갈영윤  4.272661  남\n",
       "c          20203302   설현우  3.945900  여\n",
       "d          20203303   백태하  4.396391  여\n",
       "e          20203304   정용성  4.063440  남\n",
       "f          20203305   허형철  3.064323  여\n",
       "g          20203306   하주연  3.554681  여\n",
       "h          20203307  사공재주  3.617575  여\n",
       "i          20203308   손창희  3.117372  남\n",
       "j          20203309   유용환  3.778316  여"
      ]
     },
     "execution_count": 53,
     "metadata": {},
     "output_type": "execute_result"
    }
   ],
   "source": [
    "#df options \n",
    "\n",
    "df1.reindex(columns = ['이름','학번','성별','학점'])\n",
    "df1"
   ]
  },
  {
   "cell_type": "code",
   "execution_count": 62,
   "id": "18dc74e7-3186-4529-8091-314eada07113",
   "metadata": {},
   "outputs": [
    {
     "data": {
      "text/html": [
       "<div>\n",
       "<style scoped>\n",
       "    .dataframe tbody tr th:only-of-type {\n",
       "        vertical-align: middle;\n",
       "    }\n",
       "\n",
       "    .dataframe tbody tr th {\n",
       "        vertical-align: top;\n",
       "    }\n",
       "\n",
       "    .dataframe thead th {\n",
       "        text-align: right;\n",
       "    }\n",
       "</style>\n",
       "<table border=\"1\" class=\"dataframe\">\n",
       "  <thead>\n",
       "    <tr style=\"text-align: right;\">\n",
       "      <th></th>\n",
       "      <th>학번</th>\n",
       "      <th>이름</th>\n",
       "      <th>학점</th>\n",
       "      <th>성별</th>\n",
       "    </tr>\n",
       "  </thead>\n",
       "  <tbody>\n",
       "    <tr>\n",
       "      <th>a</th>\n",
       "      <td>10</td>\n",
       "      <td>10</td>\n",
       "      <td>10.000000</td>\n",
       "      <td>10</td>\n",
       "    </tr>\n",
       "    <tr>\n",
       "      <th>b</th>\n",
       "      <td>20203301</td>\n",
       "      <td>제갈영윤</td>\n",
       "      <td>3.684356</td>\n",
       "      <td>남</td>\n",
       "    </tr>\n",
       "    <tr>\n",
       "      <th>c</th>\n",
       "      <td>20203302</td>\n",
       "      <td>설현우</td>\n",
       "      <td>3.289410</td>\n",
       "      <td>남</td>\n",
       "    </tr>\n",
       "    <tr>\n",
       "      <th>d</th>\n",
       "      <td>20203303</td>\n",
       "      <td>백태하</td>\n",
       "      <td>4.065680</td>\n",
       "      <td>남</td>\n",
       "    </tr>\n",
       "    <tr>\n",
       "      <th>e</th>\n",
       "      <td>10</td>\n",
       "      <td>10</td>\n",
       "      <td>10.000000</td>\n",
       "      <td>10</td>\n",
       "    </tr>\n",
       "    <tr>\n",
       "      <th>f</th>\n",
       "      <td>10</td>\n",
       "      <td>10</td>\n",
       "      <td>10.000000</td>\n",
       "      <td>10</td>\n",
       "    </tr>\n",
       "    <tr>\n",
       "      <th>g</th>\n",
       "      <td>20203306</td>\n",
       "      <td>하주연</td>\n",
       "      <td>4.101153</td>\n",
       "      <td>남</td>\n",
       "    </tr>\n",
       "    <tr>\n",
       "      <th>h</th>\n",
       "      <td>10</td>\n",
       "      <td>10</td>\n",
       "      <td>10.000000</td>\n",
       "      <td>10</td>\n",
       "    </tr>\n",
       "    <tr>\n",
       "      <th>i</th>\n",
       "      <td>20203308</td>\n",
       "      <td>손창희</td>\n",
       "      <td>4.304477</td>\n",
       "      <td>남</td>\n",
       "    </tr>\n",
       "    <tr>\n",
       "      <th>j</th>\n",
       "      <td>10</td>\n",
       "      <td>10</td>\n",
       "      <td>10.000000</td>\n",
       "      <td>10</td>\n",
       "    </tr>\n",
       "  </tbody>\n",
       "</table>\n",
       "</div>"
      ],
      "text/plain": [
       "         학번    이름         학점  성별\n",
       "a        10    10  10.000000  10\n",
       "b  20203301  제갈영윤   3.684356   남\n",
       "c  20203302   설현우   3.289410   남\n",
       "d  20203303   백태하   4.065680   남\n",
       "e        10    10  10.000000  10\n",
       "f        10    10  10.000000  10\n",
       "g  20203306   하주연   4.101153   남\n",
       "h        10    10  10.000000  10\n",
       "i  20203308   손창희   4.304477   남\n",
       "j        10    10  10.000000  10"
      ]
     },
     "execution_count": 62,
     "metadata": {},
     "output_type": "execute_result"
    }
   ],
   "source": [
    "# Common Mistakes\n",
    "df1.loc[df1['성별'] == '여'] = 10\n",
    "df1"
   ]
  },
  {
   "cell_type": "code",
   "execution_count": 65,
   "id": "f991d468-2a73-48e3-b4a7-1745d645534b",
   "metadata": {},
   "outputs": [
    {
     "data": {
      "text/html": [
       "<div>\n",
       "<style scoped>\n",
       "    .dataframe tbody tr th:only-of-type {\n",
       "        vertical-align: middle;\n",
       "    }\n",
       "\n",
       "    .dataframe tbody tr th {\n",
       "        vertical-align: top;\n",
       "    }\n",
       "\n",
       "    .dataframe thead th {\n",
       "        text-align: right;\n",
       "    }\n",
       "</style>\n",
       "<table border=\"1\" class=\"dataframe\">\n",
       "  <thead>\n",
       "    <tr style=\"text-align: right;\">\n",
       "      <th></th>\n",
       "      <th>학번</th>\n",
       "      <th>이름</th>\n",
       "      <th>학점</th>\n",
       "      <th>성별</th>\n",
       "    </tr>\n",
       "  </thead>\n",
       "  <tbody>\n",
       "    <tr>\n",
       "      <th>a</th>\n",
       "      <td>20203300</td>\n",
       "      <td>풍유성</td>\n",
       "      <td>3.854855</td>\n",
       "      <td>남</td>\n",
       "    </tr>\n",
       "    <tr>\n",
       "      <th>b</th>\n",
       "      <td>20203301</td>\n",
       "      <td>제갈영윤</td>\n",
       "      <td>4.022433</td>\n",
       "      <td>남</td>\n",
       "    </tr>\n",
       "    <tr>\n",
       "      <th>c</th>\n",
       "      <td>20203302</td>\n",
       "      <td>설현우</td>\n",
       "      <td>3.351779</td>\n",
       "      <td>남</td>\n",
       "    </tr>\n",
       "    <tr>\n",
       "      <th>d</th>\n",
       "      <td>20203303</td>\n",
       "      <td>백태하</td>\n",
       "      <td>3.278073</td>\n",
       "      <td>남</td>\n",
       "    </tr>\n",
       "    <tr>\n",
       "      <th>e</th>\n",
       "      <td>20203304</td>\n",
       "      <td>정용성</td>\n",
       "      <td>4.498294</td>\n",
       "      <td>남</td>\n",
       "    </tr>\n",
       "    <tr>\n",
       "      <th>f</th>\n",
       "      <td>20203305</td>\n",
       "      <td>허형철</td>\n",
       "      <td>3.638693</td>\n",
       "      <td>여</td>\n",
       "    </tr>\n",
       "    <tr>\n",
       "      <th>g</th>\n",
       "      <td>20203306</td>\n",
       "      <td>하주연</td>\n",
       "      <td>3.629186</td>\n",
       "      <td>여</td>\n",
       "    </tr>\n",
       "    <tr>\n",
       "      <th>h</th>\n",
       "      <td>20203307</td>\n",
       "      <td>사공재주</td>\n",
       "      <td>3.663580</td>\n",
       "      <td>여</td>\n",
       "    </tr>\n",
       "    <tr>\n",
       "      <th>i</th>\n",
       "      <td>20203308</td>\n",
       "      <td>손창희</td>\n",
       "      <td>4.011899</td>\n",
       "      <td>여</td>\n",
       "    </tr>\n",
       "    <tr>\n",
       "      <th>j</th>\n",
       "      <td>20203309</td>\n",
       "      <td>유용환</td>\n",
       "      <td>4.112367</td>\n",
       "      <td>남</td>\n",
       "    </tr>\n",
       "  </tbody>\n",
       "</table>\n",
       "</div>"
      ],
      "text/plain": [
       "         학번    이름        학점 성별\n",
       "a  20203300   풍유성  3.854855  남\n",
       "b  20203301  제갈영윤  4.022433  남\n",
       "c  20203302   설현우  3.351779  남\n",
       "d  20203303   백태하  3.278073  남\n",
       "e  20203304   정용성  4.498294  남\n",
       "f  20203305   허형철  3.638693  여\n",
       "g  20203306   하주연  3.629186  여\n",
       "h  20203307  사공재주  3.663580  여\n",
       "i  20203308   손창희  4.011899  여\n",
       "j  20203309   유용환  4.112367  남"
      ]
     },
     "execution_count": 65,
     "metadata": {},
     "output_type": "execute_result"
    }
   ],
   "source": [
    "df1 = {\n",
    "    '학번' : np.arange(20203300, 20203310),\n",
    "    '이름' : ['풍유성', '제갈영윤', '설현우', '백태하', '정용성', '허형철', '하주연', '사공재주', '손창희', '유용환'],\n",
    "    '학점' : np.random.uniform(3, 4.5, 10),\n",
    "    '성별' : np.random.choice(['남','여'], 10)\n",
    "}\n",
    "df1 = pd.DataFrame(df1)\n",
    "df1.index = list('abcdefghij')\n",
    "df1"
   ]
  },
  {
   "cell_type": "code",
   "execution_count": 66,
   "id": "306503bb-60ef-40e1-a7e6-a83e15d1afc0",
   "metadata": {},
   "outputs": [
    {
     "data": {
      "text/html": [
       "<div>\n",
       "<style scoped>\n",
       "    .dataframe tbody tr th:only-of-type {\n",
       "        vertical-align: middle;\n",
       "    }\n",
       "\n",
       "    .dataframe tbody tr th {\n",
       "        vertical-align: top;\n",
       "    }\n",
       "\n",
       "    .dataframe thead th {\n",
       "        text-align: right;\n",
       "    }\n",
       "</style>\n",
       "<table border=\"1\" class=\"dataframe\">\n",
       "  <thead>\n",
       "    <tr style=\"text-align: right;\">\n",
       "      <th></th>\n",
       "      <th>학번</th>\n",
       "      <th>이름</th>\n",
       "      <th>학점</th>\n",
       "      <th>성별</th>\n",
       "    </tr>\n",
       "  </thead>\n",
       "  <tbody>\n",
       "    <tr>\n",
       "      <th>a</th>\n",
       "      <td>20203300</td>\n",
       "      <td>풍유성</td>\n",
       "      <td>3.854855</td>\n",
       "      <td>남</td>\n",
       "    </tr>\n",
       "    <tr>\n",
       "      <th>b</th>\n",
       "      <td>20203301</td>\n",
       "      <td>제갈영윤</td>\n",
       "      <td>4.022433</td>\n",
       "      <td>남</td>\n",
       "    </tr>\n",
       "    <tr>\n",
       "      <th>c</th>\n",
       "      <td>20203302</td>\n",
       "      <td>설현우</td>\n",
       "      <td>3.351779</td>\n",
       "      <td>남</td>\n",
       "    </tr>\n",
       "    <tr>\n",
       "      <th>d</th>\n",
       "      <td>20203303</td>\n",
       "      <td>백태하</td>\n",
       "      <td>3.278073</td>\n",
       "      <td>남</td>\n",
       "    </tr>\n",
       "    <tr>\n",
       "      <th>e</th>\n",
       "      <td>20203304</td>\n",
       "      <td>정용성</td>\n",
       "      <td>4.498294</td>\n",
       "      <td>남</td>\n",
       "    </tr>\n",
       "    <tr>\n",
       "      <th>f</th>\n",
       "      <td>20203305</td>\n",
       "      <td>허형철</td>\n",
       "      <td>100.000000</td>\n",
       "      <td>여</td>\n",
       "    </tr>\n",
       "    <tr>\n",
       "      <th>g</th>\n",
       "      <td>20203306</td>\n",
       "      <td>하주연</td>\n",
       "      <td>100.000000</td>\n",
       "      <td>여</td>\n",
       "    </tr>\n",
       "    <tr>\n",
       "      <th>h</th>\n",
       "      <td>20203307</td>\n",
       "      <td>사공재주</td>\n",
       "      <td>100.000000</td>\n",
       "      <td>여</td>\n",
       "    </tr>\n",
       "    <tr>\n",
       "      <th>i</th>\n",
       "      <td>20203308</td>\n",
       "      <td>손창희</td>\n",
       "      <td>100.000000</td>\n",
       "      <td>여</td>\n",
       "    </tr>\n",
       "    <tr>\n",
       "      <th>j</th>\n",
       "      <td>20203309</td>\n",
       "      <td>유용환</td>\n",
       "      <td>4.112367</td>\n",
       "      <td>남</td>\n",
       "    </tr>\n",
       "  </tbody>\n",
       "</table>\n",
       "</div>"
      ],
      "text/plain": [
       "         학번    이름          학점 성별\n",
       "a  20203300   풍유성    3.854855  남\n",
       "b  20203301  제갈영윤    4.022433  남\n",
       "c  20203302   설현우    3.351779  남\n",
       "d  20203303   백태하    3.278073  남\n",
       "e  20203304   정용성    4.498294  남\n",
       "f  20203305   허형철  100.000000  여\n",
       "g  20203306   하주연  100.000000  여\n",
       "h  20203307  사공재주  100.000000  여\n",
       "i  20203308   손창희  100.000000  여\n",
       "j  20203309   유용환    4.112367  남"
      ]
     },
     "execution_count": 66,
     "metadata": {},
     "output_type": "execute_result"
    }
   ],
   "source": [
    "df1.loc[df1['성별'] == '여', '학점'] = 100\n",
    "df1"
   ]
  },
  {
   "cell_type": "code",
   "execution_count": 67,
   "id": "47277111-37f9-489e-af71-f4060bb12e5c",
   "metadata": {},
   "outputs": [
    {
     "data": {
      "text/html": [
       "<div>\n",
       "<style scoped>\n",
       "    .dataframe tbody tr th:only-of-type {\n",
       "        vertical-align: middle;\n",
       "    }\n",
       "\n",
       "    .dataframe tbody tr th {\n",
       "        vertical-align: top;\n",
       "    }\n",
       "\n",
       "    .dataframe thead th {\n",
       "        text-align: right;\n",
       "    }\n",
       "</style>\n",
       "<table border=\"1\" class=\"dataframe\">\n",
       "  <thead>\n",
       "    <tr style=\"text-align: right;\">\n",
       "      <th></th>\n",
       "      <th>학번</th>\n",
       "      <th>이름</th>\n",
       "      <th>학점</th>\n",
       "      <th>성별</th>\n",
       "    </tr>\n",
       "  </thead>\n",
       "  <tbody>\n",
       "    <tr>\n",
       "      <th>a</th>\n",
       "      <td>20203300</td>\n",
       "      <td>풍유성</td>\n",
       "      <td>3.015180</td>\n",
       "      <td>남</td>\n",
       "    </tr>\n",
       "    <tr>\n",
       "      <th>b</th>\n",
       "      <td>20203301</td>\n",
       "      <td>제갈영윤</td>\n",
       "      <td>3.458577</td>\n",
       "      <td>남</td>\n",
       "    </tr>\n",
       "    <tr>\n",
       "      <th>c</th>\n",
       "      <td>20203302</td>\n",
       "      <td>설현우</td>\n",
       "      <td>3.895026</td>\n",
       "      <td>남</td>\n",
       "    </tr>\n",
       "    <tr>\n",
       "      <th>d</th>\n",
       "      <td>20203303</td>\n",
       "      <td>백태하</td>\n",
       "      <td>3.940790</td>\n",
       "      <td>여</td>\n",
       "    </tr>\n",
       "    <tr>\n",
       "      <th>e</th>\n",
       "      <td>20203304</td>\n",
       "      <td>정용성</td>\n",
       "      <td>3.081079</td>\n",
       "      <td>여</td>\n",
       "    </tr>\n",
       "    <tr>\n",
       "      <th>f</th>\n",
       "      <td>20203305</td>\n",
       "      <td>허형철</td>\n",
       "      <td>4.164526</td>\n",
       "      <td>여</td>\n",
       "    </tr>\n",
       "    <tr>\n",
       "      <th>g</th>\n",
       "      <td>20203306</td>\n",
       "      <td>하주연</td>\n",
       "      <td>3.661090</td>\n",
       "      <td>남</td>\n",
       "    </tr>\n",
       "    <tr>\n",
       "      <th>h</th>\n",
       "      <td>20203307</td>\n",
       "      <td>사공재주</td>\n",
       "      <td>3.073902</td>\n",
       "      <td>여</td>\n",
       "    </tr>\n",
       "    <tr>\n",
       "      <th>i</th>\n",
       "      <td>20203308</td>\n",
       "      <td>손창희</td>\n",
       "      <td>3.713323</td>\n",
       "      <td>남</td>\n",
       "    </tr>\n",
       "    <tr>\n",
       "      <th>j</th>\n",
       "      <td>20203309</td>\n",
       "      <td>유용환</td>\n",
       "      <td>4.493975</td>\n",
       "      <td>여</td>\n",
       "    </tr>\n",
       "  </tbody>\n",
       "</table>\n",
       "</div>"
      ],
      "text/plain": [
       "         학번    이름        학점 성별\n",
       "a  20203300   풍유성  3.015180  남\n",
       "b  20203301  제갈영윤  3.458577  남\n",
       "c  20203302   설현우  3.895026  남\n",
       "d  20203303   백태하  3.940790  여\n",
       "e  20203304   정용성  3.081079  여\n",
       "f  20203305   허형철  4.164526  여\n",
       "g  20203306   하주연  3.661090  남\n",
       "h  20203307  사공재주  3.073902  여\n",
       "i  20203308   손창희  3.713323  남\n",
       "j  20203309   유용환  4.493975  여"
      ]
     },
     "execution_count": 67,
     "metadata": {},
     "output_type": "execute_result"
    }
   ],
   "source": [
    "df2 = {\n",
    "    '학번' : np.arange(20203300, 20203310),\n",
    "    '이름' : ['풍유성', '제갈영윤', '설현우', '백태하', '정용성', '허형철', '하주연', '사공재주', '손창희', '유용환'],\n",
    "    '학점' : np.random.uniform(3, 4.5, 10),\n",
    "    '성별' : np.random.choice(['남','여'], 10)\n",
    "}\n",
    "df2 = pd.DataFrame(df2)\n",
    "df2.index = list('abcdefghij')\n",
    "df2"
   ]
  },
  {
   "cell_type": "code",
   "execution_count": 74,
   "id": "2ca36a50-40cf-4625-8061-e24c19ffc3d1",
   "metadata": {},
   "outputs": [
    {
     "data": {
      "text/html": [
       "<div>\n",
       "<style scoped>\n",
       "    .dataframe tbody tr th:only-of-type {\n",
       "        vertical-align: middle;\n",
       "    }\n",
       "\n",
       "    .dataframe tbody tr th {\n",
       "        vertical-align: top;\n",
       "    }\n",
       "\n",
       "    .dataframe thead th {\n",
       "        text-align: right;\n",
       "    }\n",
       "</style>\n",
       "<table border=\"1\" class=\"dataframe\">\n",
       "  <thead>\n",
       "    <tr style=\"text-align: right;\">\n",
       "      <th></th>\n",
       "      <th>학번</th>\n",
       "      <th>이름</th>\n",
       "      <th>학점</th>\n",
       "      <th>성별</th>\n",
       "    </tr>\n",
       "  </thead>\n",
       "  <tbody>\n",
       "    <tr>\n",
       "      <th>a</th>\n",
       "      <td>40406600</td>\n",
       "      <td>풍유성풍유성</td>\n",
       "      <td>6.870035</td>\n",
       "      <td>남남</td>\n",
       "    </tr>\n",
       "    <tr>\n",
       "      <th>b</th>\n",
       "      <td>40406602</td>\n",
       "      <td>제갈영윤제갈영윤</td>\n",
       "      <td>7.481010</td>\n",
       "      <td>남남</td>\n",
       "    </tr>\n",
       "    <tr>\n",
       "      <th>c</th>\n",
       "      <td>40406604</td>\n",
       "      <td>설현우설현우</td>\n",
       "      <td>7.246805</td>\n",
       "      <td>남남</td>\n",
       "    </tr>\n",
       "    <tr>\n",
       "      <th>d</th>\n",
       "      <td>40406606</td>\n",
       "      <td>백태하백태하</td>\n",
       "      <td>7.218863</td>\n",
       "      <td>남여</td>\n",
       "    </tr>\n",
       "    <tr>\n",
       "      <th>e</th>\n",
       "      <td>40406608</td>\n",
       "      <td>정용성정용성</td>\n",
       "      <td>7.579373</td>\n",
       "      <td>남여</td>\n",
       "    </tr>\n",
       "    <tr>\n",
       "      <th>f</th>\n",
       "      <td>40406610</td>\n",
       "      <td>허형철허형철</td>\n",
       "      <td>104.164526</td>\n",
       "      <td>여여</td>\n",
       "    </tr>\n",
       "    <tr>\n",
       "      <th>g</th>\n",
       "      <td>40406612</td>\n",
       "      <td>하주연하주연</td>\n",
       "      <td>103.661090</td>\n",
       "      <td>여남</td>\n",
       "    </tr>\n",
       "    <tr>\n",
       "      <th>h</th>\n",
       "      <td>40406614</td>\n",
       "      <td>사공재주사공재주</td>\n",
       "      <td>103.073902</td>\n",
       "      <td>여여</td>\n",
       "    </tr>\n",
       "    <tr>\n",
       "      <th>i</th>\n",
       "      <td>40406616</td>\n",
       "      <td>손창희손창희</td>\n",
       "      <td>103.713323</td>\n",
       "      <td>여남</td>\n",
       "    </tr>\n",
       "    <tr>\n",
       "      <th>j</th>\n",
       "      <td>40406618</td>\n",
       "      <td>유용환유용환</td>\n",
       "      <td>8.606341</td>\n",
       "      <td>남여</td>\n",
       "    </tr>\n",
       "  </tbody>\n",
       "</table>\n",
       "</div>"
      ],
      "text/plain": [
       "         학번        이름          학점  성별\n",
       "a  40406600    풍유성풍유성    6.870035  남남\n",
       "b  40406602  제갈영윤제갈영윤    7.481010  남남\n",
       "c  40406604    설현우설현우    7.246805  남남\n",
       "d  40406606    백태하백태하    7.218863  남여\n",
       "e  40406608    정용성정용성    7.579373  남여\n",
       "f  40406610    허형철허형철  104.164526  여여\n",
       "g  40406612    하주연하주연  103.661090  여남\n",
       "h  40406614  사공재주사공재주  103.073902  여여\n",
       "i  40406616    손창희손창희  103.713323  여남\n",
       "j  40406618    유용환유용환    8.606341  남여"
      ]
     },
     "execution_count": 74,
     "metadata": {},
     "output_type": "execute_result"
    }
   ],
   "source": [
    "df3 = df1+df2\n",
    "df3"
   ]
  },
  {
   "cell_type": "code",
   "execution_count": 78,
   "id": "04115094-ec7f-407a-b6a6-ae54f6fd4ca9",
   "metadata": {},
   "outputs": [],
   "source": [
    "# how to apply column \n",
    "def assign_grade(gender):\n",
    "    return 2 if gender == '남' else 4\n",
    "\n",
    "# 새로운 '학년' 열 추가\n",
    "df2['학년'] = df2['성별'].apply(assign_grade)"
   ]
  },
  {
   "cell_type": "code",
   "execution_count": 79,
   "id": "e8216b6c-bf7d-4e01-9e75-02e5f3d330bc",
   "metadata": {},
   "outputs": [
    {
     "data": {
      "text/html": [
       "<div>\n",
       "<style scoped>\n",
       "    .dataframe tbody tr th:only-of-type {\n",
       "        vertical-align: middle;\n",
       "    }\n",
       "\n",
       "    .dataframe tbody tr th {\n",
       "        vertical-align: top;\n",
       "    }\n",
       "\n",
       "    .dataframe thead th {\n",
       "        text-align: right;\n",
       "    }\n",
       "</style>\n",
       "<table border=\"1\" class=\"dataframe\">\n",
       "  <thead>\n",
       "    <tr style=\"text-align: right;\">\n",
       "      <th></th>\n",
       "      <th>학번</th>\n",
       "      <th>이름</th>\n",
       "      <th>학점</th>\n",
       "      <th>성별</th>\n",
       "      <th>학년</th>\n",
       "    </tr>\n",
       "  </thead>\n",
       "  <tbody>\n",
       "    <tr>\n",
       "      <th>a</th>\n",
       "      <td>20203300</td>\n",
       "      <td>풍유성</td>\n",
       "      <td>3.015180</td>\n",
       "      <td>남</td>\n",
       "      <td>2</td>\n",
       "    </tr>\n",
       "    <tr>\n",
       "      <th>b</th>\n",
       "      <td>20203301</td>\n",
       "      <td>제갈영윤</td>\n",
       "      <td>3.458577</td>\n",
       "      <td>남</td>\n",
       "      <td>2</td>\n",
       "    </tr>\n",
       "    <tr>\n",
       "      <th>c</th>\n",
       "      <td>20203302</td>\n",
       "      <td>설현우</td>\n",
       "      <td>3.895026</td>\n",
       "      <td>남</td>\n",
       "      <td>2</td>\n",
       "    </tr>\n",
       "    <tr>\n",
       "      <th>d</th>\n",
       "      <td>20203303</td>\n",
       "      <td>백태하</td>\n",
       "      <td>3.940790</td>\n",
       "      <td>여</td>\n",
       "      <td>4</td>\n",
       "    </tr>\n",
       "    <tr>\n",
       "      <th>e</th>\n",
       "      <td>20203304</td>\n",
       "      <td>정용성</td>\n",
       "      <td>3.081079</td>\n",
       "      <td>여</td>\n",
       "      <td>4</td>\n",
       "    </tr>\n",
       "    <tr>\n",
       "      <th>f</th>\n",
       "      <td>20203305</td>\n",
       "      <td>허형철</td>\n",
       "      <td>4.164526</td>\n",
       "      <td>여</td>\n",
       "      <td>4</td>\n",
       "    </tr>\n",
       "    <tr>\n",
       "      <th>g</th>\n",
       "      <td>20203306</td>\n",
       "      <td>하주연</td>\n",
       "      <td>3.661090</td>\n",
       "      <td>남</td>\n",
       "      <td>2</td>\n",
       "    </tr>\n",
       "    <tr>\n",
       "      <th>h</th>\n",
       "      <td>20203307</td>\n",
       "      <td>사공재주</td>\n",
       "      <td>3.073902</td>\n",
       "      <td>여</td>\n",
       "      <td>4</td>\n",
       "    </tr>\n",
       "    <tr>\n",
       "      <th>i</th>\n",
       "      <td>20203308</td>\n",
       "      <td>손창희</td>\n",
       "      <td>3.713323</td>\n",
       "      <td>남</td>\n",
       "      <td>2</td>\n",
       "    </tr>\n",
       "    <tr>\n",
       "      <th>j</th>\n",
       "      <td>20203309</td>\n",
       "      <td>유용환</td>\n",
       "      <td>4.493975</td>\n",
       "      <td>여</td>\n",
       "      <td>4</td>\n",
       "    </tr>\n",
       "  </tbody>\n",
       "</table>\n",
       "</div>"
      ],
      "text/plain": [
       "         학번    이름        학점 성별  학년\n",
       "a  20203300   풍유성  3.015180  남   2\n",
       "b  20203301  제갈영윤  3.458577  남   2\n",
       "c  20203302   설현우  3.895026  남   2\n",
       "d  20203303   백태하  3.940790  여   4\n",
       "e  20203304   정용성  3.081079  여   4\n",
       "f  20203305   허형철  4.164526  여   4\n",
       "g  20203306   하주연  3.661090  남   2\n",
       "h  20203307  사공재주  3.073902  여   4\n",
       "i  20203308   손창희  3.713323  남   2\n",
       "j  20203309   유용환  4.493975  여   4"
      ]
     },
     "execution_count": 79,
     "metadata": {},
     "output_type": "execute_result"
    }
   ],
   "source": [
    "df2"
   ]
  },
  {
   "cell_type": "code",
   "execution_count": 80,
   "id": "9301f8d0-778a-479d-a6e4-17fc9cf62257",
   "metadata": {},
   "outputs": [],
   "source": [
    "# if there is no common point in index or column\n",
    "df4 = pd.DataFrame({\"A\": [1, 2]})\n",
    "df5 = pd.DataFrame({\"B\": [3, 4]})"
   ]
  },
  {
   "cell_type": "code",
   "execution_count": 81,
   "id": "f54458dd-65f9-45ad-a1a4-a8ccd845f25d",
   "metadata": {},
   "outputs": [
    {
     "data": {
      "text/html": [
       "<div>\n",
       "<style scoped>\n",
       "    .dataframe tbody tr th:only-of-type {\n",
       "        vertical-align: middle;\n",
       "    }\n",
       "\n",
       "    .dataframe tbody tr th {\n",
       "        vertical-align: top;\n",
       "    }\n",
       "\n",
       "    .dataframe thead th {\n",
       "        text-align: right;\n",
       "    }\n",
       "</style>\n",
       "<table border=\"1\" class=\"dataframe\">\n",
       "  <thead>\n",
       "    <tr style=\"text-align: right;\">\n",
       "      <th></th>\n",
       "      <th>A</th>\n",
       "      <th>B</th>\n",
       "    </tr>\n",
       "  </thead>\n",
       "  <tbody>\n",
       "    <tr>\n",
       "      <th>0</th>\n",
       "      <td>NaN</td>\n",
       "      <td>NaN</td>\n",
       "    </tr>\n",
       "    <tr>\n",
       "      <th>1</th>\n",
       "      <td>NaN</td>\n",
       "      <td>NaN</td>\n",
       "    </tr>\n",
       "  </tbody>\n",
       "</table>\n",
       "</div>"
      ],
      "text/plain": [
       "    A   B\n",
       "0 NaN NaN\n",
       "1 NaN NaN"
      ]
     },
     "execution_count": 81,
     "metadata": {},
     "output_type": "execute_result"
    }
   ],
   "source": [
    "df4+df5"
   ]
  },
  {
   "cell_type": "code",
   "execution_count": 82,
   "id": "1bdcaa1c-6b1d-4f67-a99e-2fe7c3cedf82",
   "metadata": {},
   "outputs": [
    {
     "data": {
      "text/html": [
       "<div>\n",
       "<style scoped>\n",
       "    .dataframe tbody tr th:only-of-type {\n",
       "        vertical-align: middle;\n",
       "    }\n",
       "\n",
       "    .dataframe tbody tr th {\n",
       "        vertical-align: top;\n",
       "    }\n",
       "\n",
       "    .dataframe thead th {\n",
       "        text-align: right;\n",
       "    }\n",
       "</style>\n",
       "<table border=\"1\" class=\"dataframe\">\n",
       "  <thead>\n",
       "    <tr style=\"text-align: right;\">\n",
       "      <th></th>\n",
       "      <th>A</th>\n",
       "    </tr>\n",
       "  </thead>\n",
       "  <tbody>\n",
       "    <tr>\n",
       "      <th>0</th>\n",
       "      <td>6</td>\n",
       "    </tr>\n",
       "    <tr>\n",
       "      <th>1</th>\n",
       "      <td>9</td>\n",
       "    </tr>\n",
       "  </tbody>\n",
       "</table>\n",
       "</div>"
      ],
      "text/plain": [
       "   A\n",
       "0  6\n",
       "1  9"
      ]
     },
     "execution_count": 82,
     "metadata": {},
     "output_type": "execute_result"
    }
   ],
   "source": [
    "df6 = pd.DataFrame({\"A\": [5, 7]})\n",
    "df4+df6"
   ]
  },
  {
   "cell_type": "code",
   "execution_count": 100,
   "id": "c68370b5-3e60-46fb-9994-fac69cefeb5e",
   "metadata": {},
   "outputs": [
    {
     "data": {
      "text/html": [
       "<div>\n",
       "<style scoped>\n",
       "    .dataframe tbody tr th:only-of-type {\n",
       "        vertical-align: middle;\n",
       "    }\n",
       "\n",
       "    .dataframe tbody tr th {\n",
       "        vertical-align: top;\n",
       "    }\n",
       "\n",
       "    .dataframe thead th {\n",
       "        text-align: right;\n",
       "    }\n",
       "</style>\n",
       "<table border=\"1\" class=\"dataframe\">\n",
       "  <thead>\n",
       "    <tr style=\"text-align: right;\">\n",
       "      <th></th>\n",
       "      <th>1</th>\n",
       "      <th>2</th>\n",
       "      <th>3</th>\n",
       "      <th>4</th>\n",
       "    </tr>\n",
       "  </thead>\n",
       "  <tbody>\n",
       "    <tr>\n",
       "      <th>A</th>\n",
       "      <td>0</td>\n",
       "      <td>1</td>\n",
       "      <td>2</td>\n",
       "      <td>3</td>\n",
       "    </tr>\n",
       "    <tr>\n",
       "      <th>B</th>\n",
       "      <td>4</td>\n",
       "      <td>5</td>\n",
       "      <td>6</td>\n",
       "      <td>7</td>\n",
       "    </tr>\n",
       "    <tr>\n",
       "      <th>C</th>\n",
       "      <td>8</td>\n",
       "      <td>9</td>\n",
       "      <td>10</td>\n",
       "      <td>11</td>\n",
       "    </tr>\n",
       "  </tbody>\n",
       "</table>\n",
       "</div>"
      ],
      "text/plain": [
       "   1  2   3   4\n",
       "A  0  1   2   3\n",
       "B  4  5   6   7\n",
       "C  8  9  10  11"
      ]
     },
     "execution_count": 100,
     "metadata": {},
     "output_type": "execute_result"
    }
   ],
   "source": [
    "df7 = pd.DataFrame(np.arange(12).reshape((3,4)),\n",
    "                   index = list('ABC'),\n",
    "                   columns = list('1234'))\n",
    "df7"
   ]
  },
  {
   "cell_type": "code",
   "execution_count": 101,
   "id": "d2e469d2-a81a-4b2c-b1e5-6d770f28cc4e",
   "metadata": {},
   "outputs": [
    {
     "data": {
      "text/html": [
       "<div>\n",
       "<style scoped>\n",
       "    .dataframe tbody tr th:only-of-type {\n",
       "        vertical-align: middle;\n",
       "    }\n",
       "\n",
       "    .dataframe tbody tr th {\n",
       "        vertical-align: top;\n",
       "    }\n",
       "\n",
       "    .dataframe thead th {\n",
       "        text-align: right;\n",
       "    }\n",
       "</style>\n",
       "<table border=\"1\" class=\"dataframe\">\n",
       "  <thead>\n",
       "    <tr style=\"text-align: right;\">\n",
       "      <th></th>\n",
       "      <th>3</th>\n",
       "      <th>4</th>\n",
       "      <th>5</th>\n",
       "      <th>6</th>\n",
       "    </tr>\n",
       "  </thead>\n",
       "  <tbody>\n",
       "    <tr>\n",
       "      <th>C</th>\n",
       "      <td>0</td>\n",
       "      <td>1</td>\n",
       "      <td>2</td>\n",
       "      <td>3</td>\n",
       "    </tr>\n",
       "    <tr>\n",
       "      <th>D</th>\n",
       "      <td>4</td>\n",
       "      <td>5</td>\n",
       "      <td>6</td>\n",
       "      <td>7</td>\n",
       "    </tr>\n",
       "    <tr>\n",
       "      <th>E</th>\n",
       "      <td>8</td>\n",
       "      <td>9</td>\n",
       "      <td>10</td>\n",
       "      <td>11</td>\n",
       "    </tr>\n",
       "  </tbody>\n",
       "</table>\n",
       "</div>"
      ],
      "text/plain": [
       "   3  4   5   6\n",
       "C  0  1   2   3\n",
       "D  4  5   6   7\n",
       "E  8  9  10  11"
      ]
     },
     "execution_count": 101,
     "metadata": {},
     "output_type": "execute_result"
    }
   ],
   "source": [
    "df8 = pd.DataFrame(np.arange(12).reshape((3,4)),\n",
    "                   index = list('CDE'),\n",
    "                   columns = list('3456'))\n",
    "df8"
   ]
  },
  {
   "cell_type": "code",
   "execution_count": 102,
   "id": "0f3a63cd-a4d6-4603-8df5-aa330174884b",
   "metadata": {},
   "outputs": [
    {
     "data": {
      "text/html": [
       "<div>\n",
       "<style scoped>\n",
       "    .dataframe tbody tr th:only-of-type {\n",
       "        vertical-align: middle;\n",
       "    }\n",
       "\n",
       "    .dataframe tbody tr th {\n",
       "        vertical-align: top;\n",
       "    }\n",
       "\n",
       "    .dataframe thead th {\n",
       "        text-align: right;\n",
       "    }\n",
       "</style>\n",
       "<table border=\"1\" class=\"dataframe\">\n",
       "  <thead>\n",
       "    <tr style=\"text-align: right;\">\n",
       "      <th></th>\n",
       "      <th>1</th>\n",
       "      <th>2</th>\n",
       "      <th>3</th>\n",
       "      <th>4</th>\n",
       "      <th>5</th>\n",
       "      <th>6</th>\n",
       "    </tr>\n",
       "  </thead>\n",
       "  <tbody>\n",
       "    <tr>\n",
       "      <th>A</th>\n",
       "      <td>NaN</td>\n",
       "      <td>NaN</td>\n",
       "      <td>NaN</td>\n",
       "      <td>NaN</td>\n",
       "      <td>NaN</td>\n",
       "      <td>NaN</td>\n",
       "    </tr>\n",
       "    <tr>\n",
       "      <th>B</th>\n",
       "      <td>NaN</td>\n",
       "      <td>NaN</td>\n",
       "      <td>NaN</td>\n",
       "      <td>NaN</td>\n",
       "      <td>NaN</td>\n",
       "      <td>NaN</td>\n",
       "    </tr>\n",
       "    <tr>\n",
       "      <th>C</th>\n",
       "      <td>NaN</td>\n",
       "      <td>NaN</td>\n",
       "      <td>10.0</td>\n",
       "      <td>12.0</td>\n",
       "      <td>NaN</td>\n",
       "      <td>NaN</td>\n",
       "    </tr>\n",
       "    <tr>\n",
       "      <th>D</th>\n",
       "      <td>NaN</td>\n",
       "      <td>NaN</td>\n",
       "      <td>NaN</td>\n",
       "      <td>NaN</td>\n",
       "      <td>NaN</td>\n",
       "      <td>NaN</td>\n",
       "    </tr>\n",
       "    <tr>\n",
       "      <th>E</th>\n",
       "      <td>NaN</td>\n",
       "      <td>NaN</td>\n",
       "      <td>NaN</td>\n",
       "      <td>NaN</td>\n",
       "      <td>NaN</td>\n",
       "      <td>NaN</td>\n",
       "    </tr>\n",
       "  </tbody>\n",
       "</table>\n",
       "</div>"
      ],
      "text/plain": [
       "    1   2     3     4   5   6\n",
       "A NaN NaN   NaN   NaN NaN NaN\n",
       "B NaN NaN   NaN   NaN NaN NaN\n",
       "C NaN NaN  10.0  12.0 NaN NaN\n",
       "D NaN NaN   NaN   NaN NaN NaN\n",
       "E NaN NaN   NaN   NaN NaN NaN"
      ]
     },
     "execution_count": 102,
     "metadata": {},
     "output_type": "execute_result"
    }
   ],
   "source": [
    "# is there no common portion, it fills nan\n",
    "df7+df8"
   ]
  },
  {
   "cell_type": "code",
   "execution_count": 104,
   "id": "dfa3217a-5b2f-4a3e-80b2-2fe084eea83b",
   "metadata": {},
   "outputs": [
    {
     "data": {
      "text/html": [
       "<div>\n",
       "<style scoped>\n",
       "    .dataframe tbody tr th:only-of-type {\n",
       "        vertical-align: middle;\n",
       "    }\n",
       "\n",
       "    .dataframe tbody tr th {\n",
       "        vertical-align: top;\n",
       "    }\n",
       "\n",
       "    .dataframe thead th {\n",
       "        text-align: right;\n",
       "    }\n",
       "</style>\n",
       "<table border=\"1\" class=\"dataframe\">\n",
       "  <thead>\n",
       "    <tr style=\"text-align: right;\">\n",
       "      <th></th>\n",
       "      <th>1</th>\n",
       "      <th>2</th>\n",
       "      <th>3</th>\n",
       "      <th>4</th>\n",
       "      <th>5</th>\n",
       "      <th>6</th>\n",
       "    </tr>\n",
       "  </thead>\n",
       "  <tbody>\n",
       "    <tr>\n",
       "      <th>A</th>\n",
       "      <td>0.0</td>\n",
       "      <td>1.0</td>\n",
       "      <td>2.0</td>\n",
       "      <td>3.0</td>\n",
       "      <td>NaN</td>\n",
       "      <td>NaN</td>\n",
       "    </tr>\n",
       "    <tr>\n",
       "      <th>B</th>\n",
       "      <td>4.0</td>\n",
       "      <td>5.0</td>\n",
       "      <td>6.0</td>\n",
       "      <td>7.0</td>\n",
       "      <td>NaN</td>\n",
       "      <td>NaN</td>\n",
       "    </tr>\n",
       "    <tr>\n",
       "      <th>C</th>\n",
       "      <td>8.0</td>\n",
       "      <td>9.0</td>\n",
       "      <td>10.0</td>\n",
       "      <td>12.0</td>\n",
       "      <td>2.0</td>\n",
       "      <td>3.0</td>\n",
       "    </tr>\n",
       "    <tr>\n",
       "      <th>D</th>\n",
       "      <td>NaN</td>\n",
       "      <td>NaN</td>\n",
       "      <td>4.0</td>\n",
       "      <td>5.0</td>\n",
       "      <td>6.0</td>\n",
       "      <td>7.0</td>\n",
       "    </tr>\n",
       "    <tr>\n",
       "      <th>E</th>\n",
       "      <td>NaN</td>\n",
       "      <td>NaN</td>\n",
       "      <td>8.0</td>\n",
       "      <td>9.0</td>\n",
       "      <td>10.0</td>\n",
       "      <td>11.0</td>\n",
       "    </tr>\n",
       "  </tbody>\n",
       "</table>\n",
       "</div>"
      ],
      "text/plain": [
       "     1    2     3     4     5     6\n",
       "A  0.0  1.0   2.0   3.0   NaN   NaN\n",
       "B  4.0  5.0   6.0   7.0   NaN   NaN\n",
       "C  8.0  9.0  10.0  12.0   2.0   3.0\n",
       "D  NaN  NaN   4.0   5.0   6.0   7.0\n",
       "E  NaN  NaN   8.0   9.0  10.0  11.0"
      ]
     },
     "execution_count": 104,
     "metadata": {},
     "output_type": "execute_result"
    }
   ],
   "source": [
    "# use fill_value option nan -> fill_value\n",
    "df7.add(df8, fill_value=0)"
   ]
  },
  {
   "cell_type": "code",
   "execution_count": 106,
   "id": "6d9c6d33-132d-4841-81e0-430c8710b4d6",
   "metadata": {},
   "outputs": [],
   "source": [
    "# calculation with series"
   ]
  },
  {
   "cell_type": "code",
   "execution_count": 107,
   "id": "79ea1314-9e96-4cbc-965d-04807fde5f26",
   "metadata": {},
   "outputs": [
    {
     "data": {
      "text/html": [
       "<div>\n",
       "<style scoped>\n",
       "    .dataframe tbody tr th:only-of-type {\n",
       "        vertical-align: middle;\n",
       "    }\n",
       "\n",
       "    .dataframe tbody tr th {\n",
       "        vertical-align: top;\n",
       "    }\n",
       "\n",
       "    .dataframe thead th {\n",
       "        text-align: right;\n",
       "    }\n",
       "</style>\n",
       "<table border=\"1\" class=\"dataframe\">\n",
       "  <thead>\n",
       "    <tr style=\"text-align: right;\">\n",
       "      <th></th>\n",
       "      <th>1</th>\n",
       "      <th>2</th>\n",
       "      <th>3</th>\n",
       "      <th>4</th>\n",
       "    </tr>\n",
       "  </thead>\n",
       "  <tbody>\n",
       "    <tr>\n",
       "      <th>A</th>\n",
       "      <td>0</td>\n",
       "      <td>1</td>\n",
       "      <td>2</td>\n",
       "      <td>3</td>\n",
       "    </tr>\n",
       "    <tr>\n",
       "      <th>B</th>\n",
       "      <td>4</td>\n",
       "      <td>5</td>\n",
       "      <td>6</td>\n",
       "      <td>7</td>\n",
       "    </tr>\n",
       "    <tr>\n",
       "      <th>C</th>\n",
       "      <td>8</td>\n",
       "      <td>9</td>\n",
       "      <td>10</td>\n",
       "      <td>11</td>\n",
       "    </tr>\n",
       "  </tbody>\n",
       "</table>\n",
       "</div>"
      ],
      "text/plain": [
       "   1  2   3   4\n",
       "A  0  1   2   3\n",
       "B  4  5   6   7\n",
       "C  8  9  10  11"
      ]
     },
     "execution_count": 107,
     "metadata": {},
     "output_type": "execute_result"
    }
   ],
   "source": [
    "df7"
   ]
  },
  {
   "cell_type": "code",
   "execution_count": 114,
   "id": "a9d721bb-f8b7-419b-8cea-276cd359d42c",
   "metadata": {},
   "outputs": [
    {
     "name": "stdout",
     "output_type": "stream",
     "text": [
      "A    0\n",
      "B    1\n",
      "C    2\n",
      "dtype: int32\n",
      "1    0\n",
      "2    1\n",
      "3    2\n",
      "4    3\n",
      "dtype: int32\n"
     ]
    }
   ],
   "source": [
    "ser5 = pd.Series(np.arange(3),\n",
    "                 index = list('ABC'))\n",
    "ser6 = pd.Series(np.arange(4),\n",
    "                 index = list('1234'))\n",
    "print(ser5)\n",
    "print(ser6)"
   ]
  },
  {
   "cell_type": "code",
   "execution_count": 115,
   "id": "2c63aa95-24d3-4531-bdaa-677939511187",
   "metadata": {},
   "outputs": [
    {
     "data": {
      "text/html": [
       "<div>\n",
       "<style scoped>\n",
       "    .dataframe tbody tr th:only-of-type {\n",
       "        vertical-align: middle;\n",
       "    }\n",
       "\n",
       "    .dataframe tbody tr th {\n",
       "        vertical-align: top;\n",
       "    }\n",
       "\n",
       "    .dataframe thead th {\n",
       "        text-align: right;\n",
       "    }\n",
       "</style>\n",
       "<table border=\"1\" class=\"dataframe\">\n",
       "  <thead>\n",
       "    <tr style=\"text-align: right;\">\n",
       "      <th></th>\n",
       "      <th>1</th>\n",
       "      <th>2</th>\n",
       "      <th>3</th>\n",
       "      <th>4</th>\n",
       "    </tr>\n",
       "  </thead>\n",
       "  <tbody>\n",
       "    <tr>\n",
       "      <th>A</th>\n",
       "      <td>0</td>\n",
       "      <td>2</td>\n",
       "      <td>4</td>\n",
       "      <td>6</td>\n",
       "    </tr>\n",
       "    <tr>\n",
       "      <th>B</th>\n",
       "      <td>4</td>\n",
       "      <td>6</td>\n",
       "      <td>8</td>\n",
       "      <td>10</td>\n",
       "    </tr>\n",
       "    <tr>\n",
       "      <th>C</th>\n",
       "      <td>8</td>\n",
       "      <td>10</td>\n",
       "      <td>12</td>\n",
       "      <td>14</td>\n",
       "    </tr>\n",
       "  </tbody>\n",
       "</table>\n",
       "</div>"
      ],
      "text/plain": [
       "   1   2   3   4\n",
       "A  0   2   4   6\n",
       "B  4   6   8  10\n",
       "C  8  10  12  14"
      ]
     },
     "execution_count": 115,
     "metadata": {},
     "output_type": "execute_result"
    }
   ],
   "source": [
    "df7+ser6"
   ]
  },
  {
   "cell_type": "code",
   "execution_count": 120,
   "id": "31002154-8073-4f95-bb84-2030a8c4dfcc",
   "metadata": {},
   "outputs": [
    {
     "data": {
      "text/html": [
       "<div>\n",
       "<style scoped>\n",
       "    .dataframe tbody tr th:only-of-type {\n",
       "        vertical-align: middle;\n",
       "    }\n",
       "\n",
       "    .dataframe tbody tr th {\n",
       "        vertical-align: top;\n",
       "    }\n",
       "\n",
       "    .dataframe thead th {\n",
       "        text-align: right;\n",
       "    }\n",
       "</style>\n",
       "<table border=\"1\" class=\"dataframe\">\n",
       "  <thead>\n",
       "    <tr style=\"text-align: right;\">\n",
       "      <th></th>\n",
       "      <th>1</th>\n",
       "      <th>2</th>\n",
       "      <th>3</th>\n",
       "      <th>4</th>\n",
       "    </tr>\n",
       "  </thead>\n",
       "  <tbody>\n",
       "    <tr>\n",
       "      <th>A</th>\n",
       "      <td>0</td>\n",
       "      <td>2</td>\n",
       "      <td>4</td>\n",
       "      <td>6</td>\n",
       "    </tr>\n",
       "    <tr>\n",
       "      <th>B</th>\n",
       "      <td>4</td>\n",
       "      <td>6</td>\n",
       "      <td>8</td>\n",
       "      <td>10</td>\n",
       "    </tr>\n",
       "    <tr>\n",
       "      <th>C</th>\n",
       "      <td>8</td>\n",
       "      <td>10</td>\n",
       "      <td>12</td>\n",
       "      <td>14</td>\n",
       "    </tr>\n",
       "  </tbody>\n",
       "</table>\n",
       "</div>"
      ],
      "text/plain": [
       "   1   2   3   4\n",
       "A  0   2   4   6\n",
       "B  4   6   8  10\n",
       "C  8  10  12  14"
      ]
     },
     "execution_count": 120,
     "metadata": {},
     "output_type": "execute_result"
    }
   ],
   "source": [
    "df7.add(ser6, axis=1)\n",
    "# == df7.add(ser6, axis='columns')"
   ]
  },
  {
   "cell_type": "code",
   "execution_count": 121,
   "id": "f93f70c0-b418-4c3f-956d-1d1016ae822f",
   "metadata": {},
   "outputs": [
    {
     "data": {
      "text/html": [
       "<div>\n",
       "<style scoped>\n",
       "    .dataframe tbody tr th:only-of-type {\n",
       "        vertical-align: middle;\n",
       "    }\n",
       "\n",
       "    .dataframe tbody tr th {\n",
       "        vertical-align: top;\n",
       "    }\n",
       "\n",
       "    .dataframe thead th {\n",
       "        text-align: right;\n",
       "    }\n",
       "</style>\n",
       "<table border=\"1\" class=\"dataframe\">\n",
       "  <thead>\n",
       "    <tr style=\"text-align: right;\">\n",
       "      <th></th>\n",
       "      <th>1</th>\n",
       "      <th>2</th>\n",
       "      <th>3</th>\n",
       "      <th>4</th>\n",
       "    </tr>\n",
       "  </thead>\n",
       "  <tbody>\n",
       "    <tr>\n",
       "      <th>1</th>\n",
       "      <td>NaN</td>\n",
       "      <td>NaN</td>\n",
       "      <td>NaN</td>\n",
       "      <td>NaN</td>\n",
       "    </tr>\n",
       "    <tr>\n",
       "      <th>2</th>\n",
       "      <td>NaN</td>\n",
       "      <td>NaN</td>\n",
       "      <td>NaN</td>\n",
       "      <td>NaN</td>\n",
       "    </tr>\n",
       "    <tr>\n",
       "      <th>3</th>\n",
       "      <td>NaN</td>\n",
       "      <td>NaN</td>\n",
       "      <td>NaN</td>\n",
       "      <td>NaN</td>\n",
       "    </tr>\n",
       "    <tr>\n",
       "      <th>4</th>\n",
       "      <td>NaN</td>\n",
       "      <td>NaN</td>\n",
       "      <td>NaN</td>\n",
       "      <td>NaN</td>\n",
       "    </tr>\n",
       "    <tr>\n",
       "      <th>A</th>\n",
       "      <td>NaN</td>\n",
       "      <td>NaN</td>\n",
       "      <td>NaN</td>\n",
       "      <td>NaN</td>\n",
       "    </tr>\n",
       "    <tr>\n",
       "      <th>B</th>\n",
       "      <td>NaN</td>\n",
       "      <td>NaN</td>\n",
       "      <td>NaN</td>\n",
       "      <td>NaN</td>\n",
       "    </tr>\n",
       "    <tr>\n",
       "      <th>C</th>\n",
       "      <td>NaN</td>\n",
       "      <td>NaN</td>\n",
       "      <td>NaN</td>\n",
       "      <td>NaN</td>\n",
       "    </tr>\n",
       "  </tbody>\n",
       "</table>\n",
       "</div>"
      ],
      "text/plain": [
       "    1   2   3   4\n",
       "1 NaN NaN NaN NaN\n",
       "2 NaN NaN NaN NaN\n",
       "3 NaN NaN NaN NaN\n",
       "4 NaN NaN NaN NaN\n",
       "A NaN NaN NaN NaN\n",
       "B NaN NaN NaN NaN\n",
       "C NaN NaN NaN NaN"
      ]
     },
     "execution_count": 121,
     "metadata": {},
     "output_type": "execute_result"
    }
   ],
   "source": [
    "df7.add(ser6, axis=0)"
   ]
  },
  {
   "cell_type": "code",
   "execution_count": 122,
   "id": "503e9478-9505-4fd9-abfc-ced17cedc1f2",
   "metadata": {},
   "outputs": [
    {
     "data": {
      "text/html": [
       "<div>\n",
       "<style scoped>\n",
       "    .dataframe tbody tr th:only-of-type {\n",
       "        vertical-align: middle;\n",
       "    }\n",
       "\n",
       "    .dataframe tbody tr th {\n",
       "        vertical-align: top;\n",
       "    }\n",
       "\n",
       "    .dataframe thead th {\n",
       "        text-align: right;\n",
       "    }\n",
       "</style>\n",
       "<table border=\"1\" class=\"dataframe\">\n",
       "  <thead>\n",
       "    <tr style=\"text-align: right;\">\n",
       "      <th></th>\n",
       "      <th>1</th>\n",
       "      <th>2</th>\n",
       "      <th>3</th>\n",
       "      <th>4</th>\n",
       "    </tr>\n",
       "  </thead>\n",
       "  <tbody>\n",
       "    <tr>\n",
       "      <th>A</th>\n",
       "      <td>0</td>\n",
       "      <td>1</td>\n",
       "      <td>2</td>\n",
       "      <td>3</td>\n",
       "    </tr>\n",
       "    <tr>\n",
       "      <th>B</th>\n",
       "      <td>4</td>\n",
       "      <td>5</td>\n",
       "      <td>6</td>\n",
       "      <td>7</td>\n",
       "    </tr>\n",
       "    <tr>\n",
       "      <th>C</th>\n",
       "      <td>8</td>\n",
       "      <td>9</td>\n",
       "      <td>10</td>\n",
       "      <td>11</td>\n",
       "    </tr>\n",
       "  </tbody>\n",
       "</table>\n",
       "</div>"
      ],
      "text/plain": [
       "   1  2   3   4\n",
       "A  0  1   2   3\n",
       "B  4  5   6   7\n",
       "C  8  9  10  11"
      ]
     },
     "execution_count": 122,
     "metadata": {},
     "output_type": "execute_result"
    }
   ],
   "source": [
    "df7"
   ]
  },
  {
   "cell_type": "code",
   "execution_count": 123,
   "id": "aee81bd6-fd26-43a9-a964-30df8437638b",
   "metadata": {},
   "outputs": [
    {
     "data": {
      "text/plain": [
       "1    12\n",
       "2    15\n",
       "3    18\n",
       "4    21\n",
       "dtype: int64"
      ]
     },
     "execution_count": 123,
     "metadata": {},
     "output_type": "execute_result"
    }
   ],
   "source": [
    "df7.sum(axis='index')"
   ]
  },
  {
   "cell_type": "code",
   "execution_count": 124,
   "id": "ec605327-f7d7-4f9c-956b-fa5b15b92d16",
   "metadata": {},
   "outputs": [
    {
     "data": {
      "text/plain": [
       "A     6\n",
       "B    22\n",
       "C    38\n",
       "dtype: int64"
      ]
     },
     "execution_count": 124,
     "metadata": {},
     "output_type": "execute_result"
    }
   ],
   "source": [
    "df7.sum(axis='columns')"
   ]
  },
  {
   "cell_type": "code",
   "execution_count": 130,
   "id": "a159fc74-2950-4011-8485-1740a7bca804",
   "metadata": {},
   "outputs": [
    {
     "data": {
      "text/html": [
       "<div>\n",
       "<style scoped>\n",
       "    .dataframe tbody tr th:only-of-type {\n",
       "        vertical-align: middle;\n",
       "    }\n",
       "\n",
       "    .dataframe tbody tr th {\n",
       "        vertical-align: top;\n",
       "    }\n",
       "\n",
       "    .dataframe thead th {\n",
       "        text-align: right;\n",
       "    }\n",
       "</style>\n",
       "<table border=\"1\" class=\"dataframe\">\n",
       "  <thead>\n",
       "    <tr style=\"text-align: right;\">\n",
       "      <th></th>\n",
       "      <th>1</th>\n",
       "      <th>2</th>\n",
       "      <th>3</th>\n",
       "      <th>4</th>\n",
       "    </tr>\n",
       "  </thead>\n",
       "  <tbody>\n",
       "    <tr>\n",
       "      <th>C</th>\n",
       "      <td>8</td>\n",
       "      <td>9</td>\n",
       "      <td>10</td>\n",
       "      <td>11</td>\n",
       "    </tr>\n",
       "    <tr>\n",
       "      <th>B</th>\n",
       "      <td>4</td>\n",
       "      <td>5</td>\n",
       "      <td>6</td>\n",
       "      <td>7</td>\n",
       "    </tr>\n",
       "    <tr>\n",
       "      <th>A</th>\n",
       "      <td>0</td>\n",
       "      <td>1</td>\n",
       "      <td>2</td>\n",
       "      <td>3</td>\n",
       "    </tr>\n",
       "  </tbody>\n",
       "</table>\n",
       "</div>"
      ],
      "text/plain": [
       "   1  2   3   4\n",
       "C  8  9  10  11\n",
       "B  4  5   6   7\n",
       "A  0  1   2   3"
      ]
     },
     "execution_count": 130,
     "metadata": {},
     "output_type": "execute_result"
    }
   ],
   "source": [
    "df7.sort_index(ascending=False)"
   ]
  },
  {
   "cell_type": "code",
   "execution_count": 132,
   "id": "706a7957-329a-4f50-a2d4-ae6acdaea7fa",
   "metadata": {},
   "outputs": [
    {
     "data": {
      "text/html": [
       "<div>\n",
       "<style scoped>\n",
       "    .dataframe tbody tr th:only-of-type {\n",
       "        vertical-align: middle;\n",
       "    }\n",
       "\n",
       "    .dataframe tbody tr th {\n",
       "        vertical-align: top;\n",
       "    }\n",
       "\n",
       "    .dataframe thead th {\n",
       "        text-align: right;\n",
       "    }\n",
       "</style>\n",
       "<table border=\"1\" class=\"dataframe\">\n",
       "  <thead>\n",
       "    <tr style=\"text-align: right;\">\n",
       "      <th></th>\n",
       "      <th>학번</th>\n",
       "      <th>이름</th>\n",
       "      <th>학점</th>\n",
       "      <th>성별</th>\n",
       "      <th>학년</th>\n",
       "    </tr>\n",
       "  </thead>\n",
       "  <tbody>\n",
       "    <tr>\n",
       "      <th>a</th>\n",
       "      <td>20203300</td>\n",
       "      <td>풍유성</td>\n",
       "      <td>3.015180</td>\n",
       "      <td>남</td>\n",
       "      <td>2</td>\n",
       "    </tr>\n",
       "    <tr>\n",
       "      <th>b</th>\n",
       "      <td>20203301</td>\n",
       "      <td>제갈영윤</td>\n",
       "      <td>3.458577</td>\n",
       "      <td>남</td>\n",
       "      <td>2</td>\n",
       "    </tr>\n",
       "    <tr>\n",
       "      <th>c</th>\n",
       "      <td>20203302</td>\n",
       "      <td>설현우</td>\n",
       "      <td>3.895026</td>\n",
       "      <td>남</td>\n",
       "      <td>2</td>\n",
       "    </tr>\n",
       "    <tr>\n",
       "      <th>d</th>\n",
       "      <td>20203303</td>\n",
       "      <td>백태하</td>\n",
       "      <td>3.940790</td>\n",
       "      <td>여</td>\n",
       "      <td>4</td>\n",
       "    </tr>\n",
       "    <tr>\n",
       "      <th>e</th>\n",
       "      <td>20203304</td>\n",
       "      <td>정용성</td>\n",
       "      <td>3.081079</td>\n",
       "      <td>여</td>\n",
       "      <td>4</td>\n",
       "    </tr>\n",
       "    <tr>\n",
       "      <th>f</th>\n",
       "      <td>20203305</td>\n",
       "      <td>허형철</td>\n",
       "      <td>4.164526</td>\n",
       "      <td>여</td>\n",
       "      <td>4</td>\n",
       "    </tr>\n",
       "    <tr>\n",
       "      <th>g</th>\n",
       "      <td>20203306</td>\n",
       "      <td>하주연</td>\n",
       "      <td>3.661090</td>\n",
       "      <td>남</td>\n",
       "      <td>2</td>\n",
       "    </tr>\n",
       "    <tr>\n",
       "      <th>h</th>\n",
       "      <td>20203307</td>\n",
       "      <td>사공재주</td>\n",
       "      <td>3.073902</td>\n",
       "      <td>여</td>\n",
       "      <td>4</td>\n",
       "    </tr>\n",
       "    <tr>\n",
       "      <th>i</th>\n",
       "      <td>20203308</td>\n",
       "      <td>손창희</td>\n",
       "      <td>3.713323</td>\n",
       "      <td>남</td>\n",
       "      <td>2</td>\n",
       "    </tr>\n",
       "    <tr>\n",
       "      <th>j</th>\n",
       "      <td>20203309</td>\n",
       "      <td>유용환</td>\n",
       "      <td>4.493975</td>\n",
       "      <td>여</td>\n",
       "      <td>4</td>\n",
       "    </tr>\n",
       "  </tbody>\n",
       "</table>\n",
       "</div>"
      ],
      "text/plain": [
       "         학번    이름        학점 성별  학년\n",
       "a  20203300   풍유성  3.015180  남   2\n",
       "b  20203301  제갈영윤  3.458577  남   2\n",
       "c  20203302   설현우  3.895026  남   2\n",
       "d  20203303   백태하  3.940790  여   4\n",
       "e  20203304   정용성  3.081079  여   4\n",
       "f  20203305   허형철  4.164526  여   4\n",
       "g  20203306   하주연  3.661090  남   2\n",
       "h  20203307  사공재주  3.073902  여   4\n",
       "i  20203308   손창희  3.713323  남   2\n",
       "j  20203309   유용환  4.493975  여   4"
      ]
     },
     "execution_count": 132,
     "metadata": {},
     "output_type": "execute_result"
    }
   ],
   "source": [
    "df2"
   ]
  },
  {
   "cell_type": "code",
   "execution_count": 134,
   "id": "501bc098-988a-434b-8495-45efe43d9f93",
   "metadata": {},
   "outputs": [
    {
     "data": {
      "text/html": [
       "<div>\n",
       "<style scoped>\n",
       "    .dataframe tbody tr th:only-of-type {\n",
       "        vertical-align: middle;\n",
       "    }\n",
       "\n",
       "    .dataframe tbody tr th {\n",
       "        vertical-align: top;\n",
       "    }\n",
       "\n",
       "    .dataframe thead th {\n",
       "        text-align: right;\n",
       "    }\n",
       "</style>\n",
       "<table border=\"1\" class=\"dataframe\">\n",
       "  <thead>\n",
       "    <tr style=\"text-align: right;\">\n",
       "      <th></th>\n",
       "      <th>학번</th>\n",
       "      <th>이름</th>\n",
       "      <th>학점</th>\n",
       "      <th>성별</th>\n",
       "      <th>학년</th>\n",
       "    </tr>\n",
       "  </thead>\n",
       "  <tbody>\n",
       "    <tr>\n",
       "      <th>a</th>\n",
       "      <td>20203300</td>\n",
       "      <td>풍유성</td>\n",
       "      <td>3.015180</td>\n",
       "      <td>남</td>\n",
       "      <td>2</td>\n",
       "    </tr>\n",
       "    <tr>\n",
       "      <th>h</th>\n",
       "      <td>20203307</td>\n",
       "      <td>사공재주</td>\n",
       "      <td>3.073902</td>\n",
       "      <td>여</td>\n",
       "      <td>4</td>\n",
       "    </tr>\n",
       "    <tr>\n",
       "      <th>e</th>\n",
       "      <td>20203304</td>\n",
       "      <td>정용성</td>\n",
       "      <td>3.081079</td>\n",
       "      <td>여</td>\n",
       "      <td>4</td>\n",
       "    </tr>\n",
       "    <tr>\n",
       "      <th>b</th>\n",
       "      <td>20203301</td>\n",
       "      <td>제갈영윤</td>\n",
       "      <td>3.458577</td>\n",
       "      <td>남</td>\n",
       "      <td>2</td>\n",
       "    </tr>\n",
       "    <tr>\n",
       "      <th>g</th>\n",
       "      <td>20203306</td>\n",
       "      <td>하주연</td>\n",
       "      <td>3.661090</td>\n",
       "      <td>남</td>\n",
       "      <td>2</td>\n",
       "    </tr>\n",
       "    <tr>\n",
       "      <th>i</th>\n",
       "      <td>20203308</td>\n",
       "      <td>손창희</td>\n",
       "      <td>3.713323</td>\n",
       "      <td>남</td>\n",
       "      <td>2</td>\n",
       "    </tr>\n",
       "    <tr>\n",
       "      <th>c</th>\n",
       "      <td>20203302</td>\n",
       "      <td>설현우</td>\n",
       "      <td>3.895026</td>\n",
       "      <td>남</td>\n",
       "      <td>2</td>\n",
       "    </tr>\n",
       "    <tr>\n",
       "      <th>d</th>\n",
       "      <td>20203303</td>\n",
       "      <td>백태하</td>\n",
       "      <td>3.940790</td>\n",
       "      <td>여</td>\n",
       "      <td>4</td>\n",
       "    </tr>\n",
       "    <tr>\n",
       "      <th>f</th>\n",
       "      <td>20203305</td>\n",
       "      <td>허형철</td>\n",
       "      <td>4.164526</td>\n",
       "      <td>여</td>\n",
       "      <td>4</td>\n",
       "    </tr>\n",
       "    <tr>\n",
       "      <th>j</th>\n",
       "      <td>20203309</td>\n",
       "      <td>유용환</td>\n",
       "      <td>4.493975</td>\n",
       "      <td>여</td>\n",
       "      <td>4</td>\n",
       "    </tr>\n",
       "  </tbody>\n",
       "</table>\n",
       "</div>"
      ],
      "text/plain": [
       "         학번    이름        학점 성별  학년\n",
       "a  20203300   풍유성  3.015180  남   2\n",
       "h  20203307  사공재주  3.073902  여   4\n",
       "e  20203304   정용성  3.081079  여   4\n",
       "b  20203301  제갈영윤  3.458577  남   2\n",
       "g  20203306   하주연  3.661090  남   2\n",
       "i  20203308   손창희  3.713323  남   2\n",
       "c  20203302   설현우  3.895026  남   2\n",
       "d  20203303   백태하  3.940790  여   4\n",
       "f  20203305   허형철  4.164526  여   4\n",
       "j  20203309   유용환  4.493975  여   4"
      ]
     },
     "execution_count": 134,
     "metadata": {},
     "output_type": "execute_result"
    }
   ],
   "source": [
    "df2.sort_values(by='학점')"
   ]
  },
  {
   "cell_type": "code",
   "execution_count": 135,
   "id": "05c2b9b9-3914-4240-949d-3c7d5343a1a2",
   "metadata": {},
   "outputs": [
    {
     "data": {
      "text/html": [
       "<div>\n",
       "<style scoped>\n",
       "    .dataframe tbody tr th:only-of-type {\n",
       "        vertical-align: middle;\n",
       "    }\n",
       "\n",
       "    .dataframe tbody tr th {\n",
       "        vertical-align: top;\n",
       "    }\n",
       "\n",
       "    .dataframe thead th {\n",
       "        text-align: right;\n",
       "    }\n",
       "</style>\n",
       "<table border=\"1\" class=\"dataframe\">\n",
       "  <thead>\n",
       "    <tr style=\"text-align: right;\">\n",
       "      <th></th>\n",
       "      <th>학번</th>\n",
       "      <th>이름</th>\n",
       "      <th>학점</th>\n",
       "      <th>성별</th>\n",
       "      <th>학년</th>\n",
       "    </tr>\n",
       "  </thead>\n",
       "  <tbody>\n",
       "    <tr>\n",
       "      <th>j</th>\n",
       "      <td>20203309</td>\n",
       "      <td>유용환</td>\n",
       "      <td>4.493975</td>\n",
       "      <td>여</td>\n",
       "      <td>4</td>\n",
       "    </tr>\n",
       "    <tr>\n",
       "      <th>i</th>\n",
       "      <td>20203308</td>\n",
       "      <td>손창희</td>\n",
       "      <td>3.713323</td>\n",
       "      <td>남</td>\n",
       "      <td>2</td>\n",
       "    </tr>\n",
       "    <tr>\n",
       "      <th>h</th>\n",
       "      <td>20203307</td>\n",
       "      <td>사공재주</td>\n",
       "      <td>3.073902</td>\n",
       "      <td>여</td>\n",
       "      <td>4</td>\n",
       "    </tr>\n",
       "    <tr>\n",
       "      <th>g</th>\n",
       "      <td>20203306</td>\n",
       "      <td>하주연</td>\n",
       "      <td>3.661090</td>\n",
       "      <td>남</td>\n",
       "      <td>2</td>\n",
       "    </tr>\n",
       "    <tr>\n",
       "      <th>f</th>\n",
       "      <td>20203305</td>\n",
       "      <td>허형철</td>\n",
       "      <td>4.164526</td>\n",
       "      <td>여</td>\n",
       "      <td>4</td>\n",
       "    </tr>\n",
       "    <tr>\n",
       "      <th>e</th>\n",
       "      <td>20203304</td>\n",
       "      <td>정용성</td>\n",
       "      <td>3.081079</td>\n",
       "      <td>여</td>\n",
       "      <td>4</td>\n",
       "    </tr>\n",
       "    <tr>\n",
       "      <th>d</th>\n",
       "      <td>20203303</td>\n",
       "      <td>백태하</td>\n",
       "      <td>3.940790</td>\n",
       "      <td>여</td>\n",
       "      <td>4</td>\n",
       "    </tr>\n",
       "    <tr>\n",
       "      <th>c</th>\n",
       "      <td>20203302</td>\n",
       "      <td>설현우</td>\n",
       "      <td>3.895026</td>\n",
       "      <td>남</td>\n",
       "      <td>2</td>\n",
       "    </tr>\n",
       "    <tr>\n",
       "      <th>b</th>\n",
       "      <td>20203301</td>\n",
       "      <td>제갈영윤</td>\n",
       "      <td>3.458577</td>\n",
       "      <td>남</td>\n",
       "      <td>2</td>\n",
       "    </tr>\n",
       "    <tr>\n",
       "      <th>a</th>\n",
       "      <td>20203300</td>\n",
       "      <td>풍유성</td>\n",
       "      <td>3.015180</td>\n",
       "      <td>남</td>\n",
       "      <td>2</td>\n",
       "    </tr>\n",
       "  </tbody>\n",
       "</table>\n",
       "</div>"
      ],
      "text/plain": [
       "         학번    이름        학점 성별  학년\n",
       "j  20203309   유용환  4.493975  여   4\n",
       "i  20203308   손창희  3.713323  남   2\n",
       "h  20203307  사공재주  3.073902  여   4\n",
       "g  20203306   하주연  3.661090  남   2\n",
       "f  20203305   허형철  4.164526  여   4\n",
       "e  20203304   정용성  3.081079  여   4\n",
       "d  20203303   백태하  3.940790  여   4\n",
       "c  20203302   설현우  3.895026  남   2\n",
       "b  20203301  제갈영윤  3.458577  남   2\n",
       "a  20203300   풍유성  3.015180  남   2"
      ]
     },
     "execution_count": 135,
     "metadata": {},
     "output_type": "execute_result"
    }
   ],
   "source": [
    "df2.sort_index(axis='index',ascending=False)"
   ]
  },
  {
   "cell_type": "code",
   "execution_count": 136,
   "id": "6d983dac-7a0b-48c0-94eb-b7ddbaaa181b",
   "metadata": {},
   "outputs": [
    {
     "data": {
      "text/html": [
       "<div>\n",
       "<style scoped>\n",
       "    .dataframe tbody tr th:only-of-type {\n",
       "        vertical-align: middle;\n",
       "    }\n",
       "\n",
       "    .dataframe tbody tr th {\n",
       "        vertical-align: top;\n",
       "    }\n",
       "\n",
       "    .dataframe thead th {\n",
       "        text-align: right;\n",
       "    }\n",
       "</style>\n",
       "<table border=\"1\" class=\"dataframe\">\n",
       "  <thead>\n",
       "    <tr style=\"text-align: right;\">\n",
       "      <th></th>\n",
       "      <th>학번</th>\n",
       "      <th>이름</th>\n",
       "      <th>학점</th>\n",
       "      <th>성별</th>\n",
       "      <th>학년</th>\n",
       "    </tr>\n",
       "  </thead>\n",
       "  <tbody>\n",
       "    <tr>\n",
       "      <th>a</th>\n",
       "      <td>1.0</td>\n",
       "      <td>8.0</td>\n",
       "      <td>1.0</td>\n",
       "      <td>1.0</td>\n",
       "      <td>1.0</td>\n",
       "    </tr>\n",
       "    <tr>\n",
       "      <th>b</th>\n",
       "      <td>2.0</td>\n",
       "      <td>7.0</td>\n",
       "      <td>4.0</td>\n",
       "      <td>2.0</td>\n",
       "      <td>2.0</td>\n",
       "    </tr>\n",
       "    <tr>\n",
       "      <th>c</th>\n",
       "      <td>3.0</td>\n",
       "      <td>3.0</td>\n",
       "      <td>7.0</td>\n",
       "      <td>3.0</td>\n",
       "      <td>3.0</td>\n",
       "    </tr>\n",
       "    <tr>\n",
       "      <th>d</th>\n",
       "      <td>4.0</td>\n",
       "      <td>1.0</td>\n",
       "      <td>8.0</td>\n",
       "      <td>6.0</td>\n",
       "      <td>6.0</td>\n",
       "    </tr>\n",
       "    <tr>\n",
       "      <th>e</th>\n",
       "      <td>5.0</td>\n",
       "      <td>6.0</td>\n",
       "      <td>3.0</td>\n",
       "      <td>7.0</td>\n",
       "      <td>7.0</td>\n",
       "    </tr>\n",
       "    <tr>\n",
       "      <th>f</th>\n",
       "      <td>6.0</td>\n",
       "      <td>10.0</td>\n",
       "      <td>9.0</td>\n",
       "      <td>8.0</td>\n",
       "      <td>8.0</td>\n",
       "    </tr>\n",
       "    <tr>\n",
       "      <th>g</th>\n",
       "      <td>7.0</td>\n",
       "      <td>9.0</td>\n",
       "      <td>5.0</td>\n",
       "      <td>4.0</td>\n",
       "      <td>4.0</td>\n",
       "    </tr>\n",
       "    <tr>\n",
       "      <th>h</th>\n",
       "      <td>8.0</td>\n",
       "      <td>2.0</td>\n",
       "      <td>2.0</td>\n",
       "      <td>9.0</td>\n",
       "      <td>9.0</td>\n",
       "    </tr>\n",
       "    <tr>\n",
       "      <th>i</th>\n",
       "      <td>9.0</td>\n",
       "      <td>4.0</td>\n",
       "      <td>6.0</td>\n",
       "      <td>5.0</td>\n",
       "      <td>5.0</td>\n",
       "    </tr>\n",
       "    <tr>\n",
       "      <th>j</th>\n",
       "      <td>10.0</td>\n",
       "      <td>5.0</td>\n",
       "      <td>10.0</td>\n",
       "      <td>10.0</td>\n",
       "      <td>10.0</td>\n",
       "    </tr>\n",
       "  </tbody>\n",
       "</table>\n",
       "</div>"
      ],
      "text/plain": [
       "     학번    이름    학점    성별    학년\n",
       "a   1.0   8.0   1.0   1.0   1.0\n",
       "b   2.0   7.0   4.0   2.0   2.0\n",
       "c   3.0   3.0   7.0   3.0   3.0\n",
       "d   4.0   1.0   8.0   6.0   6.0\n",
       "e   5.0   6.0   3.0   7.0   7.0\n",
       "f   6.0  10.0   9.0   8.0   8.0\n",
       "g   7.0   9.0   5.0   4.0   4.0\n",
       "h   8.0   2.0   2.0   9.0   9.0\n",
       "i   9.0   4.0   6.0   5.0   5.0\n",
       "j  10.0   5.0  10.0  10.0  10.0"
      ]
     },
     "execution_count": 136,
     "metadata": {},
     "output_type": "execute_result"
    }
   ],
   "source": [
    "df2.rank(method='first')"
   ]
  },
  {
   "cell_type": "code",
   "execution_count": 137,
   "id": "bcb599d8-bfcc-4d26-b5ff-48f69caec630",
   "metadata": {},
   "outputs": [],
   "source": [
    "# dataframe can allow redundancy"
   ]
  },
  {
   "cell_type": "code",
   "execution_count": 140,
   "id": "4742c512-68d0-48c0-b57d-9faacb75c7ff",
   "metadata": {},
   "outputs": [],
   "source": [
    "df8 = pd.DataFrame(df2.values,\n",
    "                   df2.index,\n",
    "                   df2.columns)"
   ]
  },
  {
   "cell_type": "code",
   "execution_count": 142,
   "id": "b1ef8a64-a65a-40a4-86de-abdb0264d0a9",
   "metadata": {},
   "outputs": [],
   "source": [
    "df8.index = list('abbcaccbab')"
   ]
  },
  {
   "cell_type": "code",
   "execution_count": 143,
   "id": "35ccc760-c432-403a-b772-2126387c4270",
   "metadata": {},
   "outputs": [
    {
     "data": {
      "text/html": [
       "<div>\n",
       "<style scoped>\n",
       "    .dataframe tbody tr th:only-of-type {\n",
       "        vertical-align: middle;\n",
       "    }\n",
       "\n",
       "    .dataframe tbody tr th {\n",
       "        vertical-align: top;\n",
       "    }\n",
       "\n",
       "    .dataframe thead th {\n",
       "        text-align: right;\n",
       "    }\n",
       "</style>\n",
       "<table border=\"1\" class=\"dataframe\">\n",
       "  <thead>\n",
       "    <tr style=\"text-align: right;\">\n",
       "      <th></th>\n",
       "      <th>학번</th>\n",
       "      <th>이름</th>\n",
       "      <th>학점</th>\n",
       "      <th>성별</th>\n",
       "      <th>학년</th>\n",
       "    </tr>\n",
       "  </thead>\n",
       "  <tbody>\n",
       "    <tr>\n",
       "      <th>a</th>\n",
       "      <td>20203300</td>\n",
       "      <td>풍유성</td>\n",
       "      <td>3.01518</td>\n",
       "      <td>남</td>\n",
       "      <td>2</td>\n",
       "    </tr>\n",
       "    <tr>\n",
       "      <th>b</th>\n",
       "      <td>20203301</td>\n",
       "      <td>제갈영윤</td>\n",
       "      <td>3.458577</td>\n",
       "      <td>남</td>\n",
       "      <td>2</td>\n",
       "    </tr>\n",
       "    <tr>\n",
       "      <th>b</th>\n",
       "      <td>20203302</td>\n",
       "      <td>설현우</td>\n",
       "      <td>3.895026</td>\n",
       "      <td>남</td>\n",
       "      <td>2</td>\n",
       "    </tr>\n",
       "    <tr>\n",
       "      <th>c</th>\n",
       "      <td>20203303</td>\n",
       "      <td>백태하</td>\n",
       "      <td>3.94079</td>\n",
       "      <td>여</td>\n",
       "      <td>4</td>\n",
       "    </tr>\n",
       "    <tr>\n",
       "      <th>a</th>\n",
       "      <td>20203304</td>\n",
       "      <td>정용성</td>\n",
       "      <td>3.081079</td>\n",
       "      <td>여</td>\n",
       "      <td>4</td>\n",
       "    </tr>\n",
       "    <tr>\n",
       "      <th>c</th>\n",
       "      <td>20203305</td>\n",
       "      <td>허형철</td>\n",
       "      <td>4.164526</td>\n",
       "      <td>여</td>\n",
       "      <td>4</td>\n",
       "    </tr>\n",
       "    <tr>\n",
       "      <th>c</th>\n",
       "      <td>20203306</td>\n",
       "      <td>하주연</td>\n",
       "      <td>3.66109</td>\n",
       "      <td>남</td>\n",
       "      <td>2</td>\n",
       "    </tr>\n",
       "    <tr>\n",
       "      <th>b</th>\n",
       "      <td>20203307</td>\n",
       "      <td>사공재주</td>\n",
       "      <td>3.073902</td>\n",
       "      <td>여</td>\n",
       "      <td>4</td>\n",
       "    </tr>\n",
       "    <tr>\n",
       "      <th>a</th>\n",
       "      <td>20203308</td>\n",
       "      <td>손창희</td>\n",
       "      <td>3.713323</td>\n",
       "      <td>남</td>\n",
       "      <td>2</td>\n",
       "    </tr>\n",
       "    <tr>\n",
       "      <th>b</th>\n",
       "      <td>20203309</td>\n",
       "      <td>유용환</td>\n",
       "      <td>4.493975</td>\n",
       "      <td>여</td>\n",
       "      <td>4</td>\n",
       "    </tr>\n",
       "  </tbody>\n",
       "</table>\n",
       "</div>"
      ],
      "text/plain": [
       "         학번    이름        학점 성별 학년\n",
       "a  20203300   풍유성   3.01518  남  2\n",
       "b  20203301  제갈영윤  3.458577  남  2\n",
       "b  20203302   설현우  3.895026  남  2\n",
       "c  20203303   백태하   3.94079  여  4\n",
       "a  20203304   정용성  3.081079  여  4\n",
       "c  20203305   허형철  4.164526  여  4\n",
       "c  20203306   하주연   3.66109  남  2\n",
       "b  20203307  사공재주  3.073902  여  4\n",
       "a  20203308   손창희  3.713323  남  2\n",
       "b  20203309   유용환  4.493975  여  4"
      ]
     },
     "execution_count": 143,
     "metadata": {},
     "output_type": "execute_result"
    }
   ],
   "source": [
    "df8"
   ]
  },
  {
   "cell_type": "code",
   "execution_count": 144,
   "id": "9bd21423-39c9-4aff-86fc-ab0d6987fa73",
   "metadata": {},
   "outputs": [
    {
     "data": {
      "text/html": [
       "<div>\n",
       "<style scoped>\n",
       "    .dataframe tbody tr th:only-of-type {\n",
       "        vertical-align: middle;\n",
       "    }\n",
       "\n",
       "    .dataframe tbody tr th {\n",
       "        vertical-align: top;\n",
       "    }\n",
       "\n",
       "    .dataframe thead th {\n",
       "        text-align: right;\n",
       "    }\n",
       "</style>\n",
       "<table border=\"1\" class=\"dataframe\">\n",
       "  <thead>\n",
       "    <tr style=\"text-align: right;\">\n",
       "      <th></th>\n",
       "      <th>학번</th>\n",
       "      <th>이름</th>\n",
       "      <th>학점</th>\n",
       "      <th>성별</th>\n",
       "      <th>학년</th>\n",
       "    </tr>\n",
       "  </thead>\n",
       "  <tbody>\n",
       "    <tr>\n",
       "      <th>a</th>\n",
       "      <td>20203300</td>\n",
       "      <td>풍유성</td>\n",
       "      <td>3.01518</td>\n",
       "      <td>남</td>\n",
       "      <td>2</td>\n",
       "    </tr>\n",
       "    <tr>\n",
       "      <th>a</th>\n",
       "      <td>20203304</td>\n",
       "      <td>정용성</td>\n",
       "      <td>3.081079</td>\n",
       "      <td>여</td>\n",
       "      <td>4</td>\n",
       "    </tr>\n",
       "    <tr>\n",
       "      <th>a</th>\n",
       "      <td>20203308</td>\n",
       "      <td>손창희</td>\n",
       "      <td>3.713323</td>\n",
       "      <td>남</td>\n",
       "      <td>2</td>\n",
       "    </tr>\n",
       "  </tbody>\n",
       "</table>\n",
       "</div>"
      ],
      "text/plain": [
       "         학번   이름        학점 성별 학년\n",
       "a  20203300  풍유성   3.01518  남  2\n",
       "a  20203304  정용성  3.081079  여  4\n",
       "a  20203308  손창희  3.713323  남  2"
      ]
     },
     "execution_count": 144,
     "metadata": {},
     "output_type": "execute_result"
    }
   ],
   "source": [
    "df8.loc['a']"
   ]
  },
  {
   "cell_type": "code",
   "execution_count": null,
   "id": "fb7840e6-3d3c-47f0-830d-f8f048f688f1",
   "metadata": {},
   "outputs": [],
   "source": []
  }
 ],
 "metadata": {
  "kernelspec": {
   "display_name": "Python 3 (ipykernel)",
   "language": "python",
   "name": "python3"
  },
  "language_info": {
   "codemirror_mode": {
    "name": "ipython",
    "version": 3
   },
   "file_extension": ".py",
   "mimetype": "text/x-python",
   "name": "python",
   "nbconvert_exporter": "python",
   "pygments_lexer": "ipython3",
   "version": "3.11.5"
  }
 },
 "nbformat": 4,
 "nbformat_minor": 5
}
